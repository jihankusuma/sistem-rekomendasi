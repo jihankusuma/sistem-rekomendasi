{
  "nbformat": 4,
  "nbformat_minor": 0,
  "metadata": {
    "colab": {
      "provenance": [],
      "gpuType": "T4"
    },
    "kernelspec": {
      "name": "python3",
      "display_name": "Python 3"
    },
    "language_info": {
      "name": "python"
    },
    "accelerator": "GPU"
  },
  "cells": [
    {
      "cell_type": "markdown",
      "source": [
        "#**System [Recommendation food](https://www.kaggle.com/datasets/schemersays/food-recommendation-system)**\n",
        "- **Nama:** Jihan Kusumawardhani\n",
        "- **Email:** jihankusumawwardhani@gmail.com\n",
        "- **ID Dicoding:** https://www.dicoding.com/users/jihankusumawardhani\n",
        "- **Modul:** Submission 2 Machine Learning Terapan\n",
        "-**Dataset:** [Recommendation food](https://www.kaggle.com/datasets/schemersays/food-recommendation-system)"
      ],
      "metadata": {
        "id": "sBGVoj_l-sxG"
      }
    },
    {
      "cell_type": "markdown",
      "source": [
        "## Import Package dan Libraries"
      ],
      "metadata": {
        "id": "9LdINaCvSLPo"
      }
    },
    {
      "cell_type": "code",
      "execution_count": 1,
      "metadata": {
        "colab": {
          "base_uri": "https://localhost:8080/"
        },
        "id": "AtdGgUPyHPOm",
        "outputId": "34319b2e-f3e4-4a68-a428-b6e9a4ac17c4"
      },
      "outputs": [
        {
          "output_type": "stream",
          "name": "stdout",
          "text": [
            "Collecting opendatasets\n",
            "  Downloading opendatasets-0.1.22-py3-none-any.whl.metadata (9.2 kB)\n",
            "Requirement already satisfied: tqdm in /usr/local/lib/python3.11/dist-packages (from opendatasets) (4.67.1)\n",
            "Requirement already satisfied: kaggle in /usr/local/lib/python3.11/dist-packages (from opendatasets) (1.7.4.5)\n",
            "Requirement already satisfied: click in /usr/local/lib/python3.11/dist-packages (from opendatasets) (8.2.1)\n",
            "Requirement already satisfied: bleach in /usr/local/lib/python3.11/dist-packages (from kaggle->opendatasets) (6.2.0)\n",
            "Requirement already satisfied: certifi>=14.05.14 in /usr/local/lib/python3.11/dist-packages (from kaggle->opendatasets) (2025.4.26)\n",
            "Requirement already satisfied: charset-normalizer in /usr/local/lib/python3.11/dist-packages (from kaggle->opendatasets) (3.4.2)\n",
            "Requirement already satisfied: idna in /usr/local/lib/python3.11/dist-packages (from kaggle->opendatasets) (3.10)\n",
            "Requirement already satisfied: protobuf in /usr/local/lib/python3.11/dist-packages (from kaggle->opendatasets) (5.29.4)\n",
            "Requirement already satisfied: python-dateutil>=2.5.3 in /usr/local/lib/python3.11/dist-packages (from kaggle->opendatasets) (2.9.0.post0)\n",
            "Requirement already satisfied: python-slugify in /usr/local/lib/python3.11/dist-packages (from kaggle->opendatasets) (8.0.4)\n",
            "Requirement already satisfied: requests in /usr/local/lib/python3.11/dist-packages (from kaggle->opendatasets) (2.32.3)\n",
            "Requirement already satisfied: setuptools>=21.0.0 in /usr/local/lib/python3.11/dist-packages (from kaggle->opendatasets) (75.2.0)\n",
            "Requirement already satisfied: six>=1.10 in /usr/local/lib/python3.11/dist-packages (from kaggle->opendatasets) (1.17.0)\n",
            "Requirement already satisfied: text-unidecode in /usr/local/lib/python3.11/dist-packages (from kaggle->opendatasets) (1.3)\n",
            "Requirement already satisfied: urllib3>=1.15.1 in /usr/local/lib/python3.11/dist-packages (from kaggle->opendatasets) (2.4.0)\n",
            "Requirement already satisfied: webencodings in /usr/local/lib/python3.11/dist-packages (from kaggle->opendatasets) (0.5.1)\n",
            "Downloading opendatasets-0.1.22-py3-none-any.whl (15 kB)\n",
            "Installing collected packages: opendatasets\n",
            "Successfully installed opendatasets-0.1.22\n"
          ]
        }
      ],
      "source": [
        "!pip install opendatasets"
      ]
    },
    {
      "cell_type": "markdown",
      "source": [
        ">Kode `!pip install opendatasets` digunakan untuk menginstal pustaka Python bernama `opendatasets`. Pustaka ini biasanya digunakan untuk mengunduh *dataset* dari platform seperti Kaggle. Tanda seru `!` di awal perintah menunjukkan bahwa ini adalah perintah *shell* (sistem operasi) yang dijalankan dari dalam lingkungan seperti Jupyter Notebook atau Google Colab."
      ],
      "metadata": {
        "id": "vFKfEIk3CI7j"
      }
    },
    {
      "cell_type": "code",
      "source": [
        "import pandas as pd\n",
        "import numpy as np\n",
        "import matplotlib.pyplot as plt\n",
        "import seaborn as sns\n",
        "\n",
        "# Library untuk content-based filtering\n",
        "from sklearn.feature_extraction.text import TfidfVectorizer\n",
        "from sklearn.metrics.pairwise import cosine_similarity\n",
        "\n",
        "# Library untuk collaborative filtering\n",
        "import tensorflow as tf\n",
        "from tensorflow import keras\n",
        "from tensorflow.keras import layers\n",
        "from tensorflow.keras.callbacks import ReduceLROnPlateau\n",
        "\n",
        "import warnings\n",
        "warnings.filterwarnings(\"ignore\")"
      ],
      "metadata": {
        "id": "2h2yCnCR_TqT"
      },
      "execution_count": 2,
      "outputs": []
    },
    {
      "cell_type": "markdown",
      "source": [
        ">* **Import Library Umum:**\n",
        "    * `pandas as pd`: Mengimpor pustaka Pandas untuk manipulasi dan analisis data (sering digunakan untuk *dataframe*).\n",
        "    * `numpy as np`: Mengimpor pustaka NumPy untuk komputasi numerik, terutama dengan *array*.\n",
        "    * `matplotlib.pyplot as plt`: Mengimpor modul `pyplot` dari Matplotlib untuk membuat visualisasi (plot, grafik).\n",
        "    * `seaborn as sns`: Mengimpor pustaka Seaborn untuk visualisasi data statistik yang lebih menarik.\n",
        "\n",
        ">* **Library untuk Content-based Filtering:**\n",
        "    * `TfidfVectorizer`: Digunakan untuk mengubah teks menjadi representasi numerik TF-IDF, penting dalam sistem rekomendasi berbasis konten.\n",
        "    * `cosine_similarity`: Digunakan untuk menghitung kesamaan kosinus antara dua vektor, sering dipakai untuk menentukan seberapa mirip dua item atau dokumen.\n",
        "\n",
        "\n",
        ">* **Library untuk Collaborative Filtering:**\n",
        "    * `tensorflow as tf`: Mengimpor TensorFlow, *framework* *machine learning* yang kuat.\n",
        "    * `tensorflow import keras`: Mengimpor Keras, API tingkat tinggi untuk membangun dan melatih model *deep learning* yang berjalan di atas TensorFlow.\n",
        "    * `tensorflow.keras import layers`: Mengimpor modul `layers` dari Keras untuk membangun lapisan-lapisan dalam arsitektur *neural network*.\n",
        "    * `tensorflow.keras.callbacks import ReduceLROnPlateau`: Mengimpor *callback* yang digunakan untuk mengurangi *learning rate* jika metrik tertentu tidak membaik selama beberapa *epoch* pelatihan.\n",
        "\n",
        "\n",
        "\n",
        ">* **Manajemen Peringatan:**\n",
        "    * `import warnings` dan `warnings.filterwarnings(\"ignore\")`: Baris ini digunakan untuk mengabaikan atau menyembunyikan pesan peringatan yang mungkin muncul selama eksekusi kode, agar *output* terlihat lebih bersih."
      ],
      "metadata": {
        "id": "vmE1nD_HCUF4"
      }
    },
    {
      "cell_type": "markdown",
      "source": [
        "## Data Loading"
      ],
      "metadata": {
        "id": "b1sF2_BdSg6W"
      }
    },
    {
      "cell_type": "code",
      "source": [
        "import opendatasets as od\n",
        "od.download('https://www.kaggle.com/datasets/schemersays/food-recommendation-system')"
      ],
      "metadata": {
        "colab": {
          "base_uri": "https://localhost:8080/"
        },
        "id": "__sdUURgILBz",
        "outputId": "d18ad24b-c3d0-4d61-f252-f30eb43f360c"
      },
      "execution_count": 3,
      "outputs": [
        {
          "output_type": "stream",
          "name": "stdout",
          "text": [
            "Please provide your Kaggle credentials to download this dataset. Learn more: http://bit.ly/kaggle-creds\n",
            "Your Kaggle username: jihan kusumawardhani\n",
            "Your Kaggle Key: ··········\n",
            "Dataset URL: https://www.kaggle.com/datasets/schemersays/food-recommendation-system\n",
            "Downloading food-recommendation-system.zip to ./food-recommendation-system\n"
          ]
        },
        {
          "output_type": "stream",
          "name": "stderr",
          "text": [
            "100%|██████████| 24.8k/24.8k [00:00<00:00, 32.0MB/s]"
          ]
        },
        {
          "output_type": "stream",
          "name": "stdout",
          "text": [
            "\n"
          ]
        },
        {
          "output_type": "stream",
          "name": "stderr",
          "text": [
            "\n"
          ]
        }
      ]
    },
    {
      "cell_type": "markdown",
      "source": [
        "> Pada tahapan ini, dataset yang diperlukan untuk proyek, yaitu \"food-recommendation-system\", diunduh secara programatis dari platform Kaggle. Proses ini diawali dengan mengimpor *library* `opendatasets` yang dikenal dengan alias `od`. Kemudian, fungsi `od.download()` dipanggil dengan menyertakan URL dataset Kaggle sebagai argumen.\n",
        "\n",
        "> Sistem akan meminta *user* untuk memasukkan kredensial Kaggle, yaitu *username* Kaggle (`jihan kusumawardhani`) dan *Kaggle Key*. Setelah kredensial diverifikasi, proses pengunduhan *file* `food-recommendation-system.zip` akan dimulai, dengan indikator persentase penyelesaian dan kecepatan unduh yang ditampilkan. Tahap ini memastikan ketersediaan data lokal yang diperlukan untuk seluruh proses analisis dan pemodelan selanjutnya."
      ],
      "metadata": {
        "id": "vjIP49XeC5k8"
      }
    },
    {
      "cell_type": "markdown",
      "source": [
        "# **Data Understanding**"
      ],
      "metadata": {
        "id": "PPgNfoi0TIsg"
      }
    },
    {
      "cell_type": "markdown",
      "source": [
        "### Membaca dataset makanan dan rating"
      ],
      "metadata": {
        "id": "8yw1yYTdTTGk"
      }
    },
    {
      "cell_type": "code",
      "source": [
        "df_makanan = pd.read_csv('/content/food-recommendation-system/1662574418893344.csv')\n",
        "df_rating = pd.read_csv('/content/food-recommendation-system/ratings.csv')\n",
        "\n",
        "print(df_makanan.head(3))\n",
        "print(\"<=================>\")\n",
        "print(df_makanan.shape)\n",
        "print(\"<=================>\")\n",
        "df_makanan.info()"
      ],
      "metadata": {
        "colab": {
          "base_uri": "https://localhost:8080/"
        },
        "id": "WVQdk-qiTApy",
        "outputId": "61aae43b-5b46-43bc-c181-fb09105405a2"
      },
      "execution_count": 4,
      "outputs": [
        {
          "output_type": "stream",
          "name": "stdout",
          "text": [
            "   Food_ID                  Name        C_Type  Veg_Non  \\\n",
            "0        1   summer squash salad  Healthy Food      veg   \n",
            "1        2  chicken minced salad  Healthy Food  non-veg   \n",
            "2        3  sweet chilli almonds         Snack      veg   \n",
            "\n",
            "                                            Describe  \n",
            "0  white balsamic vinegar, lemon juice, lemon rin...  \n",
            "1  olive oil, chicken mince, garlic (minced), oni...  \n",
            "2  almonds whole, egg white, curry leaves, salt, ...  \n",
            "<=================>\n",
            "(400, 5)\n",
            "<=================>\n",
            "<class 'pandas.core.frame.DataFrame'>\n",
            "RangeIndex: 400 entries, 0 to 399\n",
            "Data columns (total 5 columns):\n",
            " #   Column    Non-Null Count  Dtype \n",
            "---  ------    --------------  ----- \n",
            " 0   Food_ID   400 non-null    int64 \n",
            " 1   Name      400 non-null    object\n",
            " 2   C_Type    400 non-null    object\n",
            " 3   Veg_Non   400 non-null    object\n",
            " 4   Describe  400 non-null    object\n",
            "dtypes: int64(1), object(4)\n",
            "memory usage: 15.8+ KB\n"
          ]
        }
      ]
    },
    {
      "cell_type": "markdown",
      "source": [
        ">Pada bagian ini, proses pemuatan dan inspeksi awal dataset dilakukan sebagai fondasi untuk analisis dan pengembangan sistem rekomendasi makanan. Dua *file* CSV yang menjadi sumber data utama diimport menggunakan library `pandas`.\n",
        "\n",
        ">1.  **Pemuatan Dataset Makanan:** Dataset pertama, yang berisi informasi detail tentang makanan (`food-recommendation-system/1662574418893344.csv`), dimuat ke dalam DataFrame `df_makanan`. Inspeksi awal (`df_makanan.head()`, `df_makanan.shape`, `df_makanan.info()`) menunjukkan bahwa DataFrame ini memiliki 400 baris dan 5 kolom, dengan kolom-kolom seperti `Food_ID`, `Name`, `C_Type`, `Veg_Non`, dan `Describe` yang semuanya terisi penuh (400 *non-null* entries). Kolom `Food_ID` bertipe integer, sedangkan sisanya bertipe object (string).\n",
        "\n",
        ">2.  **Pemuatan Dataset Rating:** Dataset kedua, yang kemungkinan besar berisi data rating pengguna (`food-recommendation-system/ratings.csv`), dimuat ke dalam DataFrame `df_rating`. (Catatan: Meskipun kode memuat `df_rating`, detail `df_rating.head()`, `df_rating.shape`, `df_rating.info()` tidak ditampilkan dalam output gambar yang dilampirkan, namun asumsinya data ini juga berhasil dimuat).\n",
        "\n",
        ">Langkah pemuatan dan inspeksi awal ini esensial untuk memahami struktur, tipe data, dan potensi masalah kualitas data (seperti nilai yang hilang) sebelum melanjutkan ke tahap pembersihan dan rekayasa fitur."
      ],
      "metadata": {
        "id": "as_1mhDMV9r5"
      }
    },
    {
      "cell_type": "markdown",
      "source": [
        "###Cek kategori makanan unik"
      ],
      "metadata": {
        "id": "dWYo3R5wTom0"
      }
    },
    {
      "cell_type": "code",
      "source": [
        "print(len(df_makanan['C_Type'].unique()))\n",
        "print(df_makanan['C_Type'].unique())"
      ],
      "metadata": {
        "colab": {
          "base_uri": "https://localhost:8080/"
        },
        "id": "W0k9SMRrTtGF",
        "outputId": "ec8457af-4cdf-476a-e1b1-e068096da79c"
      },
      "execution_count": 5,
      "outputs": [
        {
          "output_type": "stream",
          "name": "stdout",
          "text": [
            "16\n",
            "['Healthy Food' 'Snack' 'Dessert' 'Japanese' 'Indian' 'French' 'Mexican'\n",
            " 'Italian' 'Chinese' 'Beverage' 'Thai' 'Korean' ' Korean' 'Vietnames'\n",
            " 'Nepalese' 'Spanish']\n"
          ]
        }
      ]
    },
    {
      "cell_type": "markdown",
      "source": [
        ">Setelah pemuatan dataset, dilakukan inspeksi terhadap kolom `C_Type` untuk memahami variasi dan keunikan kategori di dalamnya. Kode ini mencetak jumlah nilai unik dan daftar nilai unik itu sendiri.\n",
        "\n",
        ">Hasil eksekusi menunjukkan bahwa terdapat 16 nilai unik dalam kolom `C_Type`. Daftar nilai unik tersebut meliputi berbagai kategori makanan seperti 'Healthy Food', 'Snack', 'Dessert', 'Japanese', 'Indian', 'French', 'Mexican', 'Italian', 'Chinese', 'Beverage', 'Thai', 'Korean', 'Vietnamese', 'Nepalese', dan 'Spanish'. Namun, terdeteksi adanya duplikasi entri 'Korean', yang mengindikasikan perlunya langkah pembersihan lebih lanjut untuk mengonsolidasikan kategori-kategori yang sama sebelum analisis atau pemodelan."
      ],
      "metadata": {
        "id": "ylsPPr5mWO9B"
      }
    },
    {
      "cell_type": "markdown",
      "source": [
        "###Membersihkan nama kategori"
      ],
      "metadata": {
        "id": "RIQox3fKUCxk"
      }
    },
    {
      "cell_type": "code",
      "source": [
        "df_makanan['C_Type'] = df_makanan['C_Type'].replace([' Korean'], 'Korean')\n",
        "print(len(df_makanan['C_Type'].unique()))\n",
        "print(df_makanan['C_Type'].unique())"
      ],
      "metadata": {
        "colab": {
          "base_uri": "https://localhost:8080/"
        },
        "id": "GaNknp9zUEQN",
        "outputId": "e2210c07-96f1-48f9-c7ba-72b3158b2d39"
      },
      "execution_count": 6,
      "outputs": [
        {
          "output_type": "stream",
          "name": "stdout",
          "text": [
            "15\n",
            "['Healthy Food' 'Snack' 'Dessert' 'Japanese' 'Indian' 'French' 'Mexican'\n",
            " 'Italian' 'Chinese' 'Beverage' 'Thai' 'Korean' 'Vietnames' 'Nepalese'\n",
            " 'Spanish']\n"
          ]
        }
      ]
    },
    {
      "cell_type": "markdown",
      "source": [
        ">Sebagai langkah penting dalam pra-pemrosesan data untuk memastikan konsistensi dan akurasi, dilakukan konsolidasi pada kolom `C_Type` di DataFrame `df_makanan`. Kode ini secara spesifik menargetkan entri yang memiliki spasi di awal (`' Korean'`) dan menggantinya dengan format tanpa spasi (`'Korean'`).\n",
        "\n",
        ">Setelah operasi penggantian ini dieksekusi, verifikasi dilakukan dengan menghitung ulang jumlah nilai unik dan mencetak daftar nilai unik yang ada di kolom `C_Type`. Hasil output mengonfirmasi bahwa jumlah kategori unik telah berhasil berkurang menjadi 15, menunjukkan bahwa duplikasi entri 'Korean' telah berhasil diatasi, dan data kini lebih bersih serta siap untuk analisis lebih lanjut."
      ],
      "metadata": {
        "id": "fvfzPAwAJ9E8"
      }
    },
    {
      "cell_type": "markdown",
      "source": [
        "###Distribusi kategori"
      ],
      "metadata": {
        "id": "COzU0h4oUVLA"
      }
    },
    {
      "cell_type": "code",
      "source": [
        "df_makanan['C_Type'].value_counts().sort_values().plot(kind='barh', color='maroon')"
      ],
      "metadata": {
        "colab": {
          "base_uri": "https://localhost:8080/",
          "height": 447
        },
        "id": "kBa4rcuzUWv_",
        "outputId": "572fe05d-77b4-485b-dd66-da7fd84bf908"
      },
      "execution_count": 7,
      "outputs": [
        {
          "output_type": "execute_result",
          "data": {
            "text/plain": [
              "<Axes: ylabel='C_Type'>"
            ]
          },
          "metadata": {},
          "execution_count": 7
        },
        {
          "output_type": "display_data",
          "data": {
            "text/plain": [
              "<Figure size 640x480 with 1 Axes>"
            ],
            "image/png": "[encoded data removed]"
          },
          "metadata": {}
        }
      ]
    },
    {
      "cell_type": "markdown",
      "source": [
        ">Setelah proses pembersihan data, dilakukan analisis distribusi frekuensi untuk kolom `C_Type` guna memahami proporsi masing-masing jenis kategori makanan dalam dataset. Analisis ini melibatkan perhitungan jumlah kemunculan setiap nilai unik pada kolom `C_Type` menggunakan `df_makanan['C_Type'].value_counts()`, kemudian diurutkan dari yang terendah ke tertinggi menggunakan `.sort_values()`.\n",
        "\n",
        ">Visualisasi hasil dilakukan menggunakan *bar chart* horizontal (`kind='barh'`) dengan warna *maroon* untuk merepresentasikan frekuensi setiap kategori. Dari plot yang dihasilkan, terlihat jelas bahwa **'Indian' Food merupakan kategori yang paling dominan** dengan jumlah entri tertinggi, diikuti oleh 'Healthy Food' dan 'Dessert'. Sementara itu, kategori seperti 'Vietnamese' dan 'Spanish' memiliki jumlah entri yang relatif sangat sedikit. Visualisasi ini memberikan *insight* awal mengenai komposisi dataset berdasarkan jenis masakan atau tipe makanan, yang krusial untuk memahami representasi data sebelum membangun sistem rekomendasi."
      ],
      "metadata": {
        "id": "4Dg8OaqiWeaT"
      }
    },
    {
      "cell_type": "code",
      "source": [
        "print(df_rating.head(3))\n",
        "print(\"<=================>\")\n",
        "print(df_rating.shape)\n",
        "print(\"<=================>\")\n",
        "df_rating.info()\n"
      ],
      "metadata": {
        "colab": {
          "base_uri": "https://localhost:8080/"
        },
        "id": "mxCKs-SPUziE",
        "outputId": "4209925b-dfb8-4a3f-9422-da83be37f383"
      },
      "execution_count": 8,
      "outputs": [
        {
          "output_type": "stream",
          "name": "stdout",
          "text": [
            "   User_ID  Food_ID  Rating\n",
            "0      1.0     88.0     4.0\n",
            "1      1.0     46.0     3.0\n",
            "2      1.0     24.0     5.0\n",
            "<=================>\n",
            "(512, 3)\n",
            "<=================>\n",
            "<class 'pandas.core.frame.DataFrame'>\n",
            "RangeIndex: 512 entries, 0 to 511\n",
            "Data columns (total 3 columns):\n",
            " #   Column   Non-Null Count  Dtype  \n",
            "---  ------   --------------  -----  \n",
            " 0   User_ID  511 non-null    float64\n",
            " 1   Food_ID  511 non-null    float64\n",
            " 2   Rating   511 non-null    float64\n",
            "dtypes: float64(3)\n",
            "memory usage: 12.1 KB\n"
          ]
        }
      ]
    },
    {
      "cell_type": "markdown",
      "source": [
        ">Setelah dataset makanan, dilakukan inspeksi awal terhadap DataFrame `df_rating` untuk memahami struktur dan karakteristik data rating pengguna. Kode ini mencetak tiga baris pertama DataFrame, informasi mengenai dimensi DataFrame, dan ringkasan informasinya (`.info()`).\n",
        "\n",
        ">Dari output yang ditampilkan, `df_rating` memiliki 512 entri (baris) dan 3 kolom. Kolom-kolom yang tersedia meliputi `User_ID`, `Food_ID`, dan `Rating`, yang semuanya memiliki 511 *non-null* entries, mengindikasikan adanya satu nilai yang hilang di setiap kolom tersebut. Semua kolom ini terdeteksi bertipe `float64`. Inspeksi ini memberikan gambaran awal tentang data rating yang akan digunakan untuk membangun sistem rekomendasi, termasuk jumlah observasi dan kebutuhan penanganan nilai yang hilang pada tahap pra-pemrosesan selanjutnya."
      ],
      "metadata": {
        "id": "tLuCJdMkKvMQ"
      }
    },
    {
      "cell_type": "code",
      "source": [
        "print('Jumlah User_ID:', len(df_rating['User_ID'].unique()))\n",
        "print(\"<=================>\")\n",
        "print('Jumlah Food_ID:', len(df_rating['Food_ID'].unique()))\n",
        "print(\"<=================>\")\n",
        "print(df_rating.describe())"
      ],
      "metadata": {
        "colab": {
          "base_uri": "https://localhost:8080/"
        },
        "id": "4bpLvOS_U9Fn",
        "outputId": "475cdd59-6228-4e2d-be68-2bc056944afd"
      },
      "execution_count": 9,
      "outputs": [
        {
          "output_type": "stream",
          "name": "stdout",
          "text": [
            "Jumlah User_ID: 101\n",
            "<=================>\n",
            "Jumlah Food_ID: 310\n",
            "<=================>\n",
            "          User_ID     Food_ID      Rating\n",
            "count  511.000000  511.000000  511.000000\n",
            "mean    49.068493  125.311155    5.438356\n",
            "std     28.739213   91.292629    2.866236\n",
            "min      1.000000    1.000000    1.000000\n",
            "25%     25.000000   45.500000    3.000000\n",
            "50%     49.000000  111.000000    5.000000\n",
            "75%     72.000000  204.000000    8.000000\n",
            "max    100.000000  309.000000   10.000000\n"
          ]
        }
      ]
    },
    {
      "cell_type": "markdown",
      "source": [
        ">Pada bagian ini, dilakukan analisis statistik deskriptif untuk memahami karakteristik utama dari kolom-kolom numerik dalam DataFrame `df_rating`. Kode ini secara spesifik mencetak jumlah nilai unik pada kolom `User_ID` dan `Food_ID`, serta menampilkan ringkasan statistik deskriptif dari seluruh kolom numerik dalam DataFrame `df_rating` menggunakan metode `.describe()`.\n",
        "\n",
        ">Hasil output menunjukkan bahwa terdapat 101 *User_ID* unik dan 310 *Food_ID* unik, yang mengindikasikan bahwa data rating melibatkan 101 pengguna yang memberikan rating pada 310 jenis makanan yang berbeda. Untuk kolom `Rating`, nilai rata-rata (*mean*) rating adalah sekitar 5.43, dengan standar deviasi (*std*) sebesar 2.86. Rentang rating diketahui dari nilai minimum (1.0) hingga nilai maksimum (10.0), serta kuartil pertama (25%) pada 3.0, median (50%) pada 5.0, dan kuartil ketiga (75%) pada 8.0. Informasi ini sangat penting untuk memahami sebaran rating dan aktivitas pengguna serta makanan dalam dataset, yang akan menjadi dasar untuk pengembangan sistem rekomendasi."
      ],
      "metadata": {
        "id": "MW_FQRSrLZe-"
      }
    },
    {
      "cell_type": "code",
      "source": [
        "sns.displot(df_rating['Rating'], kde=True, bins=10, color='maroon')"
      ],
      "metadata": {
        "colab": {
          "base_uri": "https://localhost:8080/",
          "height": 523
        },
        "id": "y-oJm8NdVdsP",
        "outputId": "9896311d-e274-4f1a-da5f-bb751d129cca"
      },
      "execution_count": 10,
      "outputs": [
        {
          "output_type": "execute_result",
          "data": {
            "text/plain": [
              "<seaborn.axisgrid.FacetGrid at 0x7a15d86b5010>"
            ]
          },
          "metadata": {},
          "execution_count": 10
        },
        {
          "output_type": "display_data",
          "data": {
            "text/plain": [
              "<Figure size 500x500 with 1 Axes>"
            ],
            "image/png": "[encoded data removed]"
          },
          "metadata": {}
        }
      ]
    },
    {
      "cell_type": "markdown",
      "source": [
        ">Visualisasi distribusi data rating merupakan langkah krusial untuk memahami pola umpan balik pengguna terhadap objek yang direkomendasikan. Dari plot distribusi rating yang dihasilkan, dapat diidentifikasi bahwa mayoritas rating pengguna cenderung terkonsentrasi pada nilai-nilai diskrit, khususnya di sekitar angka 3, 5, dan 10. Pola ini mengindikasikan preferensi atau kecenderungan pengguna untuk memberikan rating pada skala tersebut, yang mungkin merefleksikan tingkat kepuasan yang \"cukup baik\", \"baik\", dan \"sangat baik\". Pemahaman terhadap distribusi ini penting untuk tahapan pemodelan selanjutnya, khususnya dalam memilih strategi penanganan *rating* (misal: apakah akan diperlakukan sebagai nilai kontinu atau dikategorikan) dan untuk menginterpretasikan hasil prediksi model rekomendasi."
      ],
      "metadata": {
        "id": "vig30fWhS1Qb"
      }
    },
    {
      "cell_type": "markdown",
      "source": [
        "# **Data Preprocessing**"
      ],
      "metadata": {
        "id": "A4h-lk3hTEHx"
      }
    },
    {
      "cell_type": "markdown",
      "source": [
        "###Menggabungkan Data"
      ],
      "metadata": {
        "id": "s2M_7EOzT2au"
      }
    },
    {
      "cell_type": "code",
      "source": [
        "df_gabungan = pd.merge(df_rating, df_makanan[['Food_ID', 'Name', 'C_Type']], on='Food_ID', how='left')\n",
        "print(df_gabungan.head())\n",
        "print(df_gabungan.isnull().sum())\n",
        "df_gabungan = df_gabungan.dropna()"
      ],
      "metadata": {
        "colab": {
          "base_uri": "https://localhost:8080/"
        },
        "id": "scH1awajS8du",
        "outputId": "caefe4c4-09e8-4b22-b046-acf078cf3287"
      },
      "execution_count": 11,
      "outputs": [
        {
          "output_type": "stream",
          "name": "stdout",
          "text": [
            "   User_ID  Food_ID  Rating                        Name    C_Type\n",
            "0      1.0     88.0     4.0     peri peri chicken satay     Snack\n",
            "1      1.0     46.0     3.0     steam bunny chicken bao  Japanese\n",
            "2      1.0     24.0     5.0  green lentil dessert fudge   Dessert\n",
            "3      1.0     25.0     4.0          cashew nut cookies   Dessert\n",
            "4      2.0     49.0     1.0        christmas tree pizza   Italian\n",
            "User_ID    1\n",
            "Food_ID    1\n",
            "Rating     1\n",
            "Name       1\n",
            "C_Type     1\n",
            "dtype: int64\n"
          ]
        }
      ]
    },
    {
      "cell_type": "markdown",
      "source": [
        ">Pada tahapan ini, sebuah matriks kosong (`pivot_table`) disiapkan sebagai struktur dasar untuk merepresentasikan umpan balik pengguna dalam format yang akan digunakan untuk pemodelan sistem rekomendasi. Kode tersebut menginisialisasi matriks ini dengan nilai nol di seluruh selnya, yang akan diisi kemudian dengan data rating yang relevan. Matriks ini memiliki dimensi di mana baris merepresentasikan `User_ID` unik dan kolom merepresentasikan `Food_ID` unik, sehingga setiap sel dalam matriks akan menampung rating yang diberikan oleh pengguna tertentu untuk makanan tertentu. Struktur ini fundamental untuk banyak algoritma rekomendasi, terutama yang berbasis *collaborative filtering*, karena memungkinkan representasi *sparse* dari interaksi pengguna-item."
      ],
      "metadata": {
        "id": "5uQd31BwNOWs"
      }
    },
    {
      "cell_type": "code",
      "source": [
        "df_rating = df_rating.dropna()"
      ],
      "metadata": {
        "id": "5dkkSn4rUGMB"
      },
      "execution_count": 12,
      "outputs": []
    },
    {
      "cell_type": "markdown",
      "source": [
        "###Urutkan berdasarkan Food_ID"
      ],
      "metadata": {
        "id": "aQ_jv_wwUN0q"
      }
    },
    {
      "cell_type": "code",
      "source": [
        "df_urut = df_gabungan.sort_values('Food_ID', ascending=True)\n",
        "print(df_urut.head())\n",
        "print(len(df_urut['Food_ID'].unique()))\n",
        "print(df_urut['C_Type'].unique())"
      ],
      "metadata": {
        "colab": {
          "base_uri": "https://localhost:8080/"
        },
        "id": "xA_VuQ2aUQa5",
        "outputId": "2809db30-f11c-4ee5-a499-9afc09e96164"
      },
      "execution_count": 13,
      "outputs": [
        {
          "output_type": "stream",
          "name": "stdout",
          "text": [
            "     User_ID  Food_ID  Rating                  Name        C_Type\n",
            "376     71.0      1.0    10.0   summer squash salad  Healthy Food\n",
            "253     49.0      1.0     5.0   summer squash salad  Healthy Food\n",
            "116     22.0      2.0     5.0  chicken minced salad  Healthy Food\n",
            "200     39.0      2.0    10.0  chicken minced salad  Healthy Food\n",
            "50       9.0      2.0     3.0  chicken minced salad  Healthy Food\n",
            "309\n",
            "['Healthy Food' 'Snack' 'Dessert' 'Japanese' 'Indian' 'French' 'Mexican'\n",
            " 'Italian' 'Chinese' 'Beverage' 'Thai']\n"
          ]
        }
      ]
    },
    {
      "cell_type": "markdown",
      "source": [
        ">Pada tahap pra-pemrosesan ini, index dari DataFrame `df_makanan` dikonversi menjadi sebuah list. Langkah ini esensial karena banyak operasi selanjutnya dalam analisis data dan *machine learning* membutuhkan data dalam format list untuk iterasi atau akses indeks yang lebih mudah. Meskipun tidak ada output yang ditampilkan dalam gambar yang dilampirkan, eksekusi sel kode ini akan menghasilkan list yang berisi indeks-indeks dari DataFrame `df_makanan`, yang kemungkinan besar adalah rentang numerik dari 0 hingga jumlah baris dalam DataFrame tersebut. List indeks ini dapat digunakan untuk berbagai keperluan, seperti memetakan kembali hasil analisis ke data asli atau untuk *feature engineering* lebih lanjut."
      ],
      "metadata": {
        "id": "90jHxhUDNyji"
      }
    },
    {
      "cell_type": "markdown",
      "source": [
        "###Persiapan data makanan tanpa duplikasi"
      ],
      "metadata": {
        "id": "66EafRBcUkNR"
      }
    },
    {
      "cell_type": "code",
      "source": [
        "df_prep = df_urut.sort_values('Food_ID').drop_duplicates('Food_ID')\n",
        "df_prep.loc[df_prep['C_Type'] == 'Healthy Food', 'C_Type'] = 'Healthy_Food'"
      ],
      "metadata": {
        "id": "KhOxH-6JUnOJ"
      },
      "execution_count": 14,
      "outputs": []
    },
    {
      "cell_type": "markdown",
      "source": [
        "\n",
        "###Ekstraksi kolom untuk content-based filtering"
      ],
      "metadata": {
        "id": "3KaNeWjyUx9U"
      }
    },
    {
      "cell_type": "code",
      "source": [
        "list_id = df_prep['Food_ID'].tolist()\n",
        "list_nama = df_prep['Name'].tolist()\n",
        "list_kategori = df_prep['C_Type'].tolist()\n",
        "\n",
        "print(len(list_id), len(list_nama), len(list_kategori))"
      ],
      "metadata": {
        "colab": {
          "base_uri": "https://localhost:8080/"
        },
        "id": "Koct7eR-U04Y",
        "outputId": "74cf46f8-ba2d-48a4-f8f3-957a452a59f0"
      },
      "execution_count": 15,
      "outputs": [
        {
          "output_type": "stream",
          "name": "stdout",
          "text": [
            "309 309 309\n"
          ]
        }
      ]
    },
    {
      "cell_type": "markdown",
      "source": [
        ">Pada tahapan pra-pemrosesan data ini, beberapa kolom kunci dari DataFrame `df_makanan`, yaitu `Food_ID`, `Name`, dan `C_Type`, dikonversi menjadi format list. Meskipun output langsung dari proses konversi tidak sepenuhnya terlihat pada gambar yang dilampirkan, tujuan dari langkah ini adalah untuk mempermudah manipulasi data dan integrasi ke dalam model *machine learning* selanjutnya, terutama yang berbasis teks atau untuk operasi yang memerlukan akses indeks yang cepat dan langsung. Konversi ini menghasilkan representasi yang lebih fleksibel untuk fitur-fitur yang akan digunakan dalam pembangunan sistem rekomendasi makanan."
      ],
      "metadata": {
        "id": "Of7lpybrVCfQ"
      }
    },
    {
      "cell_type": "markdown",
      "source": [
        "###Membuat dataframe baru"
      ],
      "metadata": {
        "id": "JTAfbT3OVEs9"
      }
    },
    {
      "cell_type": "code",
      "source": [
        "df_makanan_baru = pd.DataFrame({\n",
        "    'id': list_id,\n",
        "    'food_name': list_nama,\n",
        "    'category': list_kategori\n",
        "})\n",
        "\n",
        "print(df_makanan_baru.head())\n",
        "print(df_makanan_baru.sample(5))"
      ],
      "metadata": {
        "colab": {
          "base_uri": "https://localhost:8080/"
        },
        "id": "WdtZE5J4VNPP",
        "outputId": "7d9d8540-3aa3-470c-9b4f-4972985ad5a4"
      },
      "execution_count": 16,
      "outputs": [
        {
          "output_type": "stream",
          "name": "stdout",
          "text": [
            "    id             food_name      category\n",
            "0  1.0   summer squash salad  Healthy_Food\n",
            "1  2.0  chicken minced salad  Healthy_Food\n",
            "2  3.0  sweet chilli almonds         Snack\n",
            "3  4.0       tricolour salad  Healthy_Food\n",
            "4  5.0        christmas cake       Dessert\n",
            "        id                    food_name category\n",
            "169  170.0  fried rice with soya chunks  Chinese\n",
            "196  197.0  cheese and avocado parantha  Mexican\n",
            "295  296.0          tandoori fish tikka   Indian\n",
            "124  125.0        cheese chicken kebabs   Indian\n",
            "282  283.0            veg hakka noodles  Chinese\n"
          ]
        }
      ]
    },
    {
      "cell_type": "markdown",
      "source": [
        "# **Modeling**"
      ],
      "metadata": {
        "id": "u948NO7sVrEm"
      }
    },
    {
      "cell_type": "markdown",
      "source": [
        "###Content-Based Filtering"
      ],
      "metadata": {
        "id": "7xNqhMKgVvsX"
      }
    },
    {
      "cell_type": "markdown",
      "source": [
        "#####Membuat TF-IDF vectorizer berdasarkan kategori makanan"
      ],
      "metadata": {
        "id": "ecxRDYWUWI5u"
      }
    },
    {
      "cell_type": "code",
      "source": [
        "tfidf_vect = TfidfVectorizer()\n",
        "tfidf_vect.fit(df_makanan_baru['category'])\n",
        "print(tfidf_vect.get_feature_names_out())"
      ],
      "metadata": {
        "colab": {
          "base_uri": "https://localhost:8080/"
        },
        "id": "trrI9FBmVuOW",
        "outputId": "4c375e10-661d-40c5-f547-f48a1dca3a17"
      },
      "execution_count": 17,
      "outputs": [
        {
          "output_type": "stream",
          "name": "stdout",
          "text": [
            "['beverage' 'chinese' 'dessert' 'french' 'healthy_food' 'indian' 'italian'\n",
            " 'japanese' 'mexican' 'snack' 'thai']\n"
          ]
        }
      ]
    },
    {
      "cell_type": "code",
      "source": [
        "tfidf_matrix = tfidf_vect.fit_transform(df_makanan_baru['category'])\n",
        "print(tfidf_matrix.shape)\n",
        "print(tfidf_matrix.todense())"
      ],
      "metadata": {
        "colab": {
          "base_uri": "https://localhost:8080/"
        },
        "id": "3iEceSHhWQxP",
        "outputId": "1b473ea2-bc3d-43f3-b4d6-920935c85e77"
      },
      "execution_count": 18,
      "outputs": [
        {
          "output_type": "stream",
          "name": "stdout",
          "text": [
            "(309, 11)\n",
            "[[0. 0. 0. ... 0. 0. 0.]\n",
            " [0. 0. 0. ... 0. 0. 0.]\n",
            " [0. 0. 0. ... 0. 1. 0.]\n",
            " ...\n",
            " [0. 0. 0. ... 0. 0. 0.]\n",
            " [0. 0. 0. ... 0. 0. 0.]\n",
            " [0. 0. 0. ... 0. 1. 0.]]\n"
          ]
        }
      ]
    },
    {
      "cell_type": "markdown",
      "source": [
        "### Pra-pemrosesan Data: Konversi Vektor TF-IDF ke Matriks Padat\n",
        "\n",
        "Pada tahapan pra-pemrosesan data ini, representasi fitur teks yang telah diubah menjadi vektor TF-IDF dikonversi menjadi format matriks padat (*dense matrix*) menggunakan fungsi `todense()`. Matriks padat ini, yang kini berisi bobot TF-IDF untuk setiap kata dalam setiap dokumen (ulasan makanan), akan menjadi input langsung untuk model *machine learning* selanjutnya dalam pembangunan sistem rekomendasi."
      ],
      "metadata": {
        "id": "rgWtuaH6WdzT"
      }
    },
    {
      "cell_type": "markdown",
      "source": [
        "#####Menampilkan beberapa contoh fitur"
      ],
      "metadata": {
        "id": "UKgObWo-WkUs"
      }
    },
    {
      "cell_type": "code",
      "source": [
        "df_tfidf = pd.DataFrame(tfidf_matrix.todense(),\n",
        "                        columns=tfidf_vect.get_feature_names_out(),\n",
        "                        index=df_makanan_baru['food_name'])\n",
        "print(df_tfidf.sample(11, axis=1).sample(10, axis=0))"
      ],
      "metadata": {
        "colab": {
          "base_uri": "https://localhost:8080/"
        },
        "id": "gXsdfEYHWiU7",
        "outputId": "50b1d13a-82eb-4159-bef2-b5cf126c0543"
      },
      "execution_count": 19,
      "outputs": [
        {
          "output_type": "stream",
          "name": "stdout",
          "text": [
            "                                                italian  indian  chinese  \\\n",
            "food_name                                                                  \n",
            "thai pineapple rice                                 0.0     0.0      0.0   \n",
            "shrimp & cilantro ceviche                           0.0     0.0      0.0   \n",
            "chicken minced salad                                0.0     0.0      0.0   \n",
            "sugar free modak                                    0.0     0.0      0.0   \n",
            "black rice                                          0.0     0.0      0.0   \n",
            "red rice poha                                       0.0     1.0      0.0   \n",
            "curd rice                                           0.0     1.0      0.0   \n",
            "chicken and mushroom lasagna                        1.0     0.0      0.0   \n",
            "methi chicken masala                                0.0     1.0      0.0   \n",
            "banana phirni tartlets with fresh strawberries      0.0     0.0      0.0   \n",
            "\n",
            "                                                french  japanese  snack  \\\n",
            "food_name                                                                 \n",
            "thai pineapple rice                                0.0       0.0    0.0   \n",
            "shrimp & cilantro ceviche                          1.0       0.0    0.0   \n",
            "chicken minced salad                               0.0       0.0    0.0   \n",
            "sugar free modak                                   0.0       1.0    0.0   \n",
            "black rice                                         0.0       0.0    0.0   \n",
            "red rice poha                                      0.0       0.0    0.0   \n",
            "curd rice                                          0.0       0.0    0.0   \n",
            "chicken and mushroom lasagna                       0.0       0.0    0.0   \n",
            "methi chicken masala                               0.0       0.0    0.0   \n",
            "banana phirni tartlets with fresh strawberries     0.0       0.0    1.0   \n",
            "\n",
            "                                                healthy_food  thai  dessert  \\\n",
            "food_name                                                                     \n",
            "thai pineapple rice                                      0.0   1.0      0.0   \n",
            "shrimp & cilantro ceviche                                0.0   0.0      0.0   \n",
            "chicken minced salad                                     1.0   0.0      0.0   \n",
            "sugar free modak                                         0.0   0.0      0.0   \n",
            "black rice                                               1.0   0.0      0.0   \n",
            "red rice poha                                            0.0   0.0      0.0   \n",
            "curd rice                                                0.0   0.0      0.0   \n",
            "chicken and mushroom lasagna                             0.0   0.0      0.0   \n",
            "methi chicken masala                                     0.0   0.0      0.0   \n",
            "banana phirni tartlets with fresh strawberries           0.0   0.0      0.0   \n",
            "\n",
            "                                                beverage  mexican  \n",
            "food_name                                                          \n",
            "thai pineapple rice                                  0.0      0.0  \n",
            "shrimp & cilantro ceviche                            0.0      0.0  \n",
            "chicken minced salad                                 0.0      0.0  \n",
            "sugar free modak                                     0.0      0.0  \n",
            "black rice                                           0.0      0.0  \n",
            "red rice poha                                        0.0      0.0  \n",
            "curd rice                                            0.0      0.0  \n",
            "chicken and mushroom lasagna                         0.0      0.0  \n",
            "methi chicken masala                                 0.0      0.0  \n",
            "banana phirni tartlets with fresh strawberries       0.0      0.0  \n"
          ]
        }
      ]
    },
    {
      "cell_type": "markdown",
      "source": [
        "#####Matriks cosine similarity\n"
      ],
      "metadata": {
        "id": "x2iuSNUdW3x8"
      }
    },
    {
      "cell_type": "code",
      "source": [
        "cos_sim = cosine_similarity(tfidf_matrix)\n",
        "df_cosine = pd.DataFrame(cos_sim, index=df_makanan_baru['food_name'], columns=df_makanan_baru['food_name'])\n",
        "print('Shape:', df_cosine.shape)\n",
        "print(df_cosine.sample(5, axis=1).sample(10, axis=0))"
      ],
      "metadata": {
        "colab": {
          "base_uri": "https://localhost:8080/"
        },
        "id": "uwWGik2FXBo2",
        "outputId": "23d6be94-9404-4679-95e2-031ea52bd485"
      },
      "execution_count": 20,
      "outputs": [
        {
          "output_type": "stream",
          "name": "stdout",
          "text": [
            "Shape: (309, 309)\n",
            "food_name                                   chicken roulade  \\\n",
            "food_name                                                     \n",
            "banana chips                                            0.0   \n",
            "japanese fish stew                                      0.0   \n",
            "fennel scented sweet banana fritters                    0.0   \n",
            "corn and raw mango salad                                0.0   \n",
            "seared salmon in tabasco butter                         0.0   \n",
            "al hachi chicken                                        0.0   \n",
            "almond and cranberry poha                               0.0   \n",
            "spaghetti with clams & crispy bread crumbs              0.0   \n",
            "cashew nut cookies                                      0.0   \n",
            "chicken roulade                                         1.0   \n",
            "\n",
            "food_name                                   spicy creamy kadai chicken  \\\n",
            "food_name                                                                \n",
            "banana chips                                                       0.0   \n",
            "japanese fish stew                                                 0.0   \n",
            "fennel scented sweet banana fritters                               0.0   \n",
            "corn and raw mango salad                                           0.0   \n",
            "seared salmon in tabasco butter                                    0.0   \n",
            "al hachi chicken                                                   1.0   \n",
            "almond and cranberry poha                                          1.0   \n",
            "spaghetti with clams & crispy bread crumbs                         0.0   \n",
            "cashew nut cookies                                                 0.0   \n",
            "chicken roulade                                                    0.0   \n",
            "\n",
            "food_name                                   methi malai cranberry chicken  \\\n",
            "food_name                                                                   \n",
            "banana chips                                                          0.0   \n",
            "japanese fish stew                                                    0.0   \n",
            "fennel scented sweet banana fritters                                  0.0   \n",
            "corn and raw mango salad                                              0.0   \n",
            "seared salmon in tabasco butter                                       0.0   \n",
            "al hachi chicken                                                      1.0   \n",
            "almond and cranberry poha                                             1.0   \n",
            "spaghetti with clams & crispy bread crumbs                            0.0   \n",
            "cashew nut cookies                                                    0.0   \n",
            "chicken roulade                                                       0.0   \n",
            "\n",
            "food_name                                   roasted spring chicken with root veggies  \\\n",
            "food_name                                                                              \n",
            "banana chips                                                                     0.0   \n",
            "japanese fish stew                                                               0.0   \n",
            "fennel scented sweet banana fritters                                             0.0   \n",
            "corn and raw mango salad                                                         1.0   \n",
            "seared salmon in tabasco butter                                                  0.0   \n",
            "al hachi chicken                                                                 0.0   \n",
            "almond and cranberry poha                                                        0.0   \n",
            "spaghetti with clams & crispy bread crumbs                                       0.0   \n",
            "cashew nut cookies                                                               0.0   \n",
            "chicken roulade                                                                  0.0   \n",
            "\n",
            "food_name                                   balti meat  \n",
            "food_name                                               \n",
            "banana chips                                       0.0  \n",
            "japanese fish stew                                 0.0  \n",
            "fennel scented sweet banana fritters               0.0  \n",
            "corn and raw mango salad                           0.0  \n",
            "seared salmon in tabasco butter                    0.0  \n",
            "al hachi chicken                                   0.0  \n",
            "almond and cranberry poha                          0.0  \n",
            "spaghetti with clams & crispy bread crumbs         0.0  \n",
            "cashew nut cookies                                 0.0  \n",
            "chicken roulade                                    0.0  \n"
          ]
        }
      ]
    },
    {
      "cell_type": "code",
      "source": [
        "def rekomendasi_makanan(nama_makanan, sim_data=df_cosine, items=df_makanan_baru[['food_name', 'category']], top=5):\n",
        "    # Mengambil indeks kemiripan\n",
        "    idx_array = sim_data.loc[:, nama_makanan].to_numpy().argpartition(range(-1, -top, -1))\n",
        "    rekomendasi = sim_data.columns[idx_array[-1:-(top+2):-1]]\n",
        "    rekomendasi = rekomendasi.drop(nama_makanan, errors='ignore')\n",
        "    return pd.DataFrame(rekomendasi).merge(items).head(top)"
      ],
      "metadata": {
        "id": "hkqASwZOXPXg"
      },
      "execution_count": 21,
      "outputs": []
    },
    {
      "cell_type": "markdown",
      "source": [
        ">Bagian kode program ini didedikasikan untuk mengembangkan sebuah fungsi yang esensial dalam sistem rekomendasi, yaitu `rekomendasi_makanan`, yang menerima input berupa nama makanan dan menghasilkan daftar rekomendasi yang relevan. Fungsi ini dirancang untuk bekerja dengan matriks kemiripan yang telah dihitung sebelumnya, di mana setiap baris dan kolom mewakili item (makanan) dalam dataset.\n",
        "\n",
        ">Langkah awal dalam fungsi ini melibatkan penggunaan metode `argpartition`. Metode ini secara tidak langsung mempartisi data di sepanjang sumbu yang ditentukan, yang dalam konteks ini digunakan untuk mengambil indeks makanan dengan tingkat kemiripan terbesar dari matriks kemiripan yang ada. Setelah mendapatkan daftar rekomendasi awal, *food_name* (nama makanan yang menjadi input pencarian) akan dibuang dari hasil, sehingga rekomendasi yang ditampilkan tidak menyertakan makanan yang sedang dicari. Pendekatan ini memastikan bahwa pengguna akan menerima rekomendasi makanan yang baru dan beragam, didasarkan pada tingkat kemiripan dengan makanan yang mereka minati."
      ],
      "metadata": {
        "id": "4Euf_npFXgXe"
      }
    },
    {
      "cell_type": "code",
      "source": [
        "print(df_makanan_baru[df_makanan_baru['food_name'] == 'banana chips'])\n",
        "print(rekomendasi_makanan('banana chips'))"
      ],
      "metadata": {
        "colab": {
          "base_uri": "https://localhost:8080/"
        },
        "id": "Cqw0IFz-XthG",
        "outputId": "db425cd5-0386-4367-8f81-96a77b770b2a"
      },
      "execution_count": 22,
      "outputs": [
        {
          "output_type": "stream",
          "name": "stdout",
          "text": [
            "        id     food_name category\n",
            "305  306.0  banana chips    Snack\n",
            "                                        food_name category\n",
            "0                                     puffed rice    Snack\n",
            "1                  californian breakfast benedict    Snack\n",
            "2  banana phirni tartlets with fresh strawberries    Snack\n",
            "3                         baked raw banana samosa    Snack\n",
            "4                        baked multigrain murukku    Snack\n"
          ]
        }
      ]
    },
    {
      "cell_type": "markdown",
      "source": [
        "> Dapat dilihat bahwa fungsi tersebut berhasil mengidentifikasi dan menampilkan 5 nama makanan yang memiliki kategori yang sama dengan makanan yang sebelumnya menjadi input, yaitu kategori 'Snack'. Hasil ini mengonfirmasi bahwa sistem rekomendasi bekerja sesuai tujuan untuk memberikan rekomendasi item (makanan) berdasarkan kemiripan kategorinya, sehingga pengguna mendapatkan variasi makanan yang relevan dalam kategori yang diminati."
      ],
      "metadata": {
        "id": "ph4I7wIYX4AF"
      }
    },
    {
      "cell_type": "markdown",
      "source": [
        "###Collaborative Filtering"
      ],
      "metadata": {
        "id": "_wF2llMCYKXR"
      }
    },
    {
      "cell_type": "markdown",
      "source": [
        "#####Encoding User_ID dan Food_ID"
      ],
      "metadata": {
        "id": "14gl9ButarzU"
      }
    },
    {
      "cell_type": "code",
      "source": [
        "user_list = df_rating['User_ID'].unique().tolist()\n",
        "print('User_ID list:', user_list)"
      ],
      "metadata": {
        "colab": {
          "base_uri": "https://localhost:8080/"
        },
        "id": "TpvA8UReYIxj",
        "outputId": "43a43a2b-3b47-470a-c935-d08c40b97f3a"
      },
      "execution_count": 23,
      "outputs": [
        {
          "output_type": "stream",
          "name": "stdout",
          "text": [
            "User_ID list: [1.0, 2.0, 3.0, 4.0, 5.0, 6.0, 7.0, 8.0, 9.0, 10.0, 11.0, 12.0, 13.0, 14.0, 15.0, 16.0, 17.0, 18.0, 19.0, 20.0, 21.0, 22.0, 23.0, 24.0, 25.0, 26.0, 27.0, 28.0, 29.0, 30.0, 31.0, 32.0, 33.0, 34.0, 35.0, 36.0, 37.0, 38.0, 39.0, 40.0, 41.0, 42.0, 43.0, 44.0, 45.0, 46.0, 47.0, 48.0, 49.0, 50.0, 51.0, 52.0, 53.0, 54.0, 55.0, 56.0, 57.0, 58.0, 59.0, 60.0, 61.0, 62.0, 63.0, 64.0, 65.0, 66.0, 67.0, 68.0, 69.0, 70.0, 71.0, 72.0, 73.0, 74.0, 75.0, 76.0, 77.0, 78.0, 79.0, 80.0, 81.0, 82.0, 83.0, 84.0, 85.0, 86.0, 87.0, 88.0, 89.0, 90.0, 91.0, 92.0, 93.0, 94.0, 95.0, 96.0, 97.0, 98.0, 99.0, 100.0]\n"
          ]
        }
      ]
    },
    {
      "cell_type": "code",
      "source": [
        "user2idx = {user: idx for idx, user in enumerate(user_list)}\n",
        "idx2user = {idx: user for idx, user in enumerate(user_list)}\n",
        "print('Mapping User_ID:', user2idx)\n",
        "print('Mapping indeks ke User_ID:', idx2user)"
      ],
      "metadata": {
        "colab": {
          "base_uri": "https://localhost:8080/"
        },
        "id": "5ysuvOGjbBSR",
        "outputId": "0361a0fd-5242-430f-e8db-41d924fe90fd"
      },
      "execution_count": 24,
      "outputs": [
        {
          "output_type": "stream",
          "name": "stdout",
          "text": [
            "Mapping User_ID: {1.0: 0, 2.0: 1, 3.0: 2, 4.0: 3, 5.0: 4, 6.0: 5, 7.0: 6, 8.0: 7, 9.0: 8, 10.0: 9, 11.0: 10, 12.0: 11, 13.0: 12, 14.0: 13, 15.0: 14, 16.0: 15, 17.0: 16, 18.0: 17, 19.0: 18, 20.0: 19, 21.0: 20, 22.0: 21, 23.0: 22, 24.0: 23, 25.0: 24, 26.0: 25, 27.0: 26, 28.0: 27, 29.0: 28, 30.0: 29, 31.0: 30, 32.0: 31, 33.0: 32, 34.0: 33, 35.0: 34, 36.0: 35, 37.0: 36, 38.0: 37, 39.0: 38, 40.0: 39, 41.0: 40, 42.0: 41, 43.0: 42, 44.0: 43, 45.0: 44, 46.0: 45, 47.0: 46, 48.0: 47, 49.0: 48, 50.0: 49, 51.0: 50, 52.0: 51, 53.0: 52, 54.0: 53, 55.0: 54, 56.0: 55, 57.0: 56, 58.0: 57, 59.0: 58, 60.0: 59, 61.0: 60, 62.0: 61, 63.0: 62, 64.0: 63, 65.0: 64, 66.0: 65, 67.0: 66, 68.0: 67, 69.0: 68, 70.0: 69, 71.0: 70, 72.0: 71, 73.0: 72, 74.0: 73, 75.0: 74, 76.0: 75, 77.0: 76, 78.0: 77, 79.0: 78, 80.0: 79, 81.0: 80, 82.0: 81, 83.0: 82, 84.0: 83, 85.0: 84, 86.0: 85, 87.0: 86, 88.0: 87, 89.0: 88, 90.0: 89, 91.0: 90, 92.0: 91, 93.0: 92, 94.0: 93, 95.0: 94, 96.0: 95, 97.0: 96, 98.0: 97, 99.0: 98, 100.0: 99}\n",
            "Mapping indeks ke User_ID: {0: 1.0, 1: 2.0, 2: 3.0, 3: 4.0, 4: 5.0, 5: 6.0, 6: 7.0, 7: 8.0, 8: 9.0, 9: 10.0, 10: 11.0, 11: 12.0, 12: 13.0, 13: 14.0, 14: 15.0, 15: 16.0, 16: 17.0, 17: 18.0, 18: 19.0, 19: 20.0, 20: 21.0, 21: 22.0, 22: 23.0, 23: 24.0, 24: 25.0, 25: 26.0, 26: 27.0, 27: 28.0, 28: 29.0, 29: 30.0, 30: 31.0, 31: 32.0, 32: 33.0, 33: 34.0, 34: 35.0, 35: 36.0, 36: 37.0, 37: 38.0, 38: 39.0, 39: 40.0, 40: 41.0, 41: 42.0, 42: 43.0, 43: 44.0, 44: 45.0, 45: 46.0, 46: 47.0, 47: 48.0, 48: 49.0, 49: 50.0, 50: 51.0, 51: 52.0, 52: 53.0, 53: 54.0, 54: 55.0, 55: 56.0, 56: 57.0, 57: 58.0, 58: 59.0, 59: 60.0, 60: 61.0, 61: 62.0, 62: 63.0, 63: 64.0, 64: 65.0, 65: 66.0, 66: 67.0, 67: 68.0, 68: 69.0, 69: 70.0, 70: 71.0, 71: 72.0, 72: 73.0, 73: 74.0, 74: 75.0, 75: 76.0, 76: 77.0, 77: 78.0, 78: 79.0, 79: 80.0, 80: 81.0, 81: 82.0, 82: 83.0, 83: 84.0, 84: 85.0, 85: 86.0, 86: 87.0, 87: 88.0, 88: 89.0, 89: 90.0, 90: 91.0, 91: 92.0, 92: 93.0, 93: 94.0, 94: 95.0, 95: 96.0, 96: 97.0, 97: 98.0, 98: 99.0, 99: 100.0}\n"
          ]
        }
      ]
    },
    {
      "cell_type": "code",
      "source": [
        "food_list = df_rating['Food_ID'].unique().tolist()\n",
        "food2idx = {food: idx for idx, food in enumerate(food_list)}\n",
        "idx2food = {idx: food for idx, food in enumerate(food_list)}"
      ],
      "metadata": {
        "id": "nplDYaWebGyD"
      },
      "execution_count": 25,
      "outputs": []
    },
    {
      "cell_type": "markdown",
      "source": [
        "#####Menambahkan kolom encoding pada dataframe rating"
      ],
      "metadata": {
        "id": "goBniu3fbPoL"
      }
    },
    {
      "cell_type": "code",
      "source": [
        "df_rating['user'] = df_rating['User_ID'].map(user2idx)\n",
        "df_rating['food'] = df_rating['Food_ID'].map(food2idx)\n",
        "\n",
        "n_users = len(user2idx)\n",
        "n_foods = len(idx2food)\n",
        "print(n_users, n_foods)"
      ],
      "metadata": {
        "colab": {
          "base_uri": "https://localhost:8080/"
        },
        "id": "RKwRWMv_bUao",
        "outputId": "f5d2ab24-dd5a-49be-a066-00eb393fc260"
      },
      "execution_count": 26,
      "outputs": [
        {
          "output_type": "stream",
          "name": "stdout",
          "text": [
            "100 309\n"
          ]
        }
      ]
    },
    {
      "cell_type": "code",
      "source": [
        "df_rating['rating'] = df_rating['Rating'].astype(np.float32)\n",
        "min_rat = df_rating['rating'].min()\n",
        "max_rat = df_rating['rating'].max()\n",
        "print('Jumlah User: {}, Jumlah Food: {}, Rating Min: {}, Rating Max: {}'.format(n_users, n_foods, min_rat, max_rat))"
      ],
      "metadata": {
        "colab": {
          "base_uri": "https://localhost:8080/"
        },
        "id": "h887ToX_babr",
        "outputId": "e9aca72d-57ce-49ac-d028-0633a3561c5d"
      },
      "execution_count": 27,
      "outputs": [
        {
          "output_type": "stream",
          "name": "stdout",
          "text": [
            "Jumlah User: 100, Jumlah Food: 309, Rating Min: 1.0, Rating Max: 10.0\n"
          ]
        }
      ]
    },
    {
      "cell_type": "markdown",
      "source": [
        ">Pada tahapan ini, dilakukan pemeriksaan mendalam terhadap karakteristik dasar dari dataset rating (`df_rating`). Kode program secara spesifik menghitung dan menampilkan jumlah nilai unik pada kolom `User_ID` dan `Food_ID`, yang mengindikasikan total pengguna dan total makanan yang terlibat dalam data umpan balik. Selanjutnya, fungsi `.describe()` digunakan untuk mendapatkan ringkasan statistik deskriptif dari semua kolom numerik dalam `df_rating`, termasuk nilai minimum, maksimum, rata-rata (*mean*), dan standar deviasi (*std*) dari kolom `Rating`. Output ini menunjukkan bahwa terdapat 101 pengguna unik dan 310 makanan unik, dengan rentang rating dari 1.0 hingga 10.0. Pemahaman terhadap statistik ini esensial untuk memvalidasi kualitas data, mengidentifikasi potensi *outlier*, dan sebagai dasar untuk strategi pemodelan rekomendasi selanjutnya."
      ],
      "metadata": {
        "id": "vmBE2t_KbkK6"
      }
    },
    {
      "cell_type": "code",
      "source": [
        "df_rating = df_rating.sample(frac=1, random_state=42)"
      ],
      "metadata": {
        "id": "XEBSmgjPbqM2"
      },
      "execution_count": 28,
      "outputs": []
    },
    {
      "cell_type": "markdown",
      "source": [
        "#####Menyiapkan data untuk training"
      ],
      "metadata": {
        "id": "nTrDWYNUbtwV"
      }
    },
    {
      "cell_type": "code",
      "source": [
        "X_data = df_rating[['user', 'food']].values\n",
        "y_data = df_rating['rating'].apply(lambda x: (x - min_rat) / (max_rat - min_rat)).values\n",
        "\n",
        "split_index = int(0.8 * df_rating.shape[0])\n",
        "X_train, X_val = X_data[:split_index], X_data[split_index:]\n",
        "y_train, y_val = y_data[:split_index], y_data[split_index:]\n",
        "print(X_data, y_data)"
      ],
      "metadata": {
        "colab": {
          "base_uri": "https://localhost:8080/"
        },
        "id": "p8igdgKOb7XH",
        "outputId": "cbcc00b5-8b79-425c-8c95-acf8a48d740f"
      },
      "execution_count": 29,
      "outputs": [
        {
          "output_type": "stream",
          "name": "stdout",
          "text": [
            "[[ 23  67]\n",
            " [ 15  78]\n",
            " [ 82 282]\n",
            " ...\n",
            " [ 66 209]\n",
            " [ 83 283]\n",
            " [ 18  93]] [0.44444444 0.22222222 0.         1.         0.77777778 1.\n",
            " 1.         0.88888889 0.88888889 0.44444444 0.88888889 1.\n",
            " 0.22222222 0.44444444 1.         0.44444444 0.11111111 0.44444444\n",
            " 0.66666667 0.11111111 0.55555556 0.77777778 0.66666667 0.55555556\n",
            " 0.22222222 1.         0.55555556 0.44444444 0.77777778 0.11111111\n",
            " 0.77777778 0.11111111 0.66666667 0.33333333 1.         1.\n",
            " 1.         0.77777778 0.55555556 1.         0.33333333 0.55555556\n",
            " 1.         0.33333333 0.44444444 0.44444444 0.44444444 0.33333333\n",
            " 0.44444444 0.22222222 0.77777778 0.         0.33333333 0.\n",
            " 0.66666667 0.11111111 0.77777778 1.         0.         0.11111111\n",
            " 1.         0.33333333 0.44444444 1.         0.22222222 0.77777778\n",
            " 0.33333333 0.77777778 0.88888889 0.         0.55555556 0.55555556\n",
            " 0.55555556 0.66666667 0.22222222 0.66666667 0.44444444 0.44444444\n",
            " 0.33333333 0.44444444 0.66666667 0.77777778 0.         0.44444444\n",
            " 1.         0.33333333 0.33333333 0.66666667 0.44444444 1.\n",
            " 1.         0.         0.22222222 1.         0.44444444 0.22222222\n",
            " 0.22222222 0.66666667 0.22222222 0.66666667 0.11111111 0.66666667\n",
            " 0.33333333 1.         0.44444444 0.33333333 0.55555556 1.\n",
            " 0.         0.88888889 0.11111111 1.         0.44444444 1.\n",
            " 0.22222222 0.11111111 0.         0.22222222 0.77777778 0.33333333\n",
            " 0.88888889 0.         0.         0.66666667 0.33333333 1.\n",
            " 0.11111111 0.22222222 0.33333333 0.77777778 0.44444444 0.55555556\n",
            " 1.         0.         0.22222222 0.22222222 1.         1.\n",
            " 0.88888889 0.33333333 0.11111111 0.11111111 0.33333333 0.66666667\n",
            " 0.77777778 0.11111111 0.33333333 0.11111111 0.44444444 0.88888889\n",
            " 0.33333333 1.         0.         0.77777778 0.44444444 0.11111111\n",
            " 0.88888889 0.44444444 0.55555556 0.22222222 0.77777778 0.44444444\n",
            " 0.33333333 0.55555556 0.         0.33333333 1.         0.33333333\n",
            " 0.11111111 0.22222222 0.33333333 0.88888889 0.77777778 0.22222222\n",
            " 0.44444444 0.66666667 0.88888889 0.88888889 0.77777778 0.88888889\n",
            " 0.77777778 0.88888889 0.22222222 0.77777778 0.22222222 0.44444444\n",
            " 0.33333333 0.33333333 0.         1.         0.         0.22222222\n",
            " 1.         0.44444444 0.11111111 0.44444444 0.66666667 0.44444444\n",
            " 0.33333333 1.         0.         0.66666667 0.         0.22222222\n",
            " 0.66666667 0.66666667 0.88888889 0.11111111 0.44444444 0.44444444\n",
            " 0.44444444 0.55555556 1.         0.88888889 0.33333333 0.88888889\n",
            " 0.         0.77777778 1.         0.44444444 0.55555556 0.55555556\n",
            " 1.         0.33333333 0.22222222 0.66666667 0.         0.88888889\n",
            " 0.22222222 0.22222222 0.55555556 0.         0.11111111 1.\n",
            " 0.22222222 0.11111111 0.         0.33333333 0.77777778 0.88888889\n",
            " 0.         0.11111111 0.         0.33333333 0.44444444 0.88888889\n",
            " 0.33333333 0.33333333 0.33333333 0.77777778 0.         0.44444444\n",
            " 0.11111111 1.         0.         0.         0.44444444 1.\n",
            " 0.55555556 0.33333333 0.66666667 0.88888889 0.22222222 0.\n",
            " 0.         0.88888889 0.77777778 1.         0.44444444 1.\n",
            " 0.33333333 0.11111111 0.77777778 0.55555556 0.11111111 0.66666667\n",
            " 0.55555556 1.         0.22222222 0.77777778 0.44444444 0.22222222\n",
            " 0.88888889 0.         0.44444444 1.         0.55555556 0.\n",
            " 0.77777778 0.22222222 0.66666667 0.11111111 0.55555556 0.77777778\n",
            " 0.66666667 0.88888889 0.44444444 0.11111111 0.66666667 0.66666667\n",
            " 0.22222222 0.22222222 0.22222222 0.66666667 0.44444444 0.33333333\n",
            " 0.11111111 0.22222222 0.55555556 0.         1.         1.\n",
            " 0.22222222 0.22222222 0.22222222 0.11111111 0.55555556 0.44444444\n",
            " 0.77777778 0.44444444 0.44444444 1.         0.55555556 0.44444444\n",
            " 0.55555556 0.55555556 0.         0.44444444 0.44444444 0.88888889\n",
            " 0.44444444 0.44444444 0.66666667 0.33333333 0.         0.22222222\n",
            " 0.22222222 0.55555556 0.55555556 0.77777778 0.55555556 0.66666667\n",
            " 0.88888889 0.55555556 0.11111111 0.44444444 0.33333333 0.11111111\n",
            " 0.33333333 0.22222222 0.22222222 0.22222222 0.33333333 0.\n",
            " 0.         0.44444444 0.22222222 0.22222222 0.22222222 0.\n",
            " 1.         0.66666667 0.66666667 0.33333333 0.88888889 0.11111111\n",
            " 0.66666667 0.44444444 0.66666667 0.         0.88888889 0.22222222\n",
            " 0.         0.55555556 0.11111111 0.66666667 1.         0.66666667\n",
            " 0.55555556 0.55555556 0.22222222 1.         0.44444444 0.11111111\n",
            " 0.66666667 1.         0.33333333 1.         0.22222222 0.22222222\n",
            " 0.44444444 0.88888889 0.66666667 0.11111111 0.11111111 0.88888889\n",
            " 0.22222222 0.77777778 0.88888889 0.77777778 1.         0.88888889\n",
            " 0.33333333 0.66666667 0.66666667 0.11111111 0.88888889 0.55555556\n",
            " 0.66666667 0.22222222 0.22222222 0.55555556 0.22222222 0.11111111\n",
            " 0.22222222 0.22222222 1.         0.55555556 0.11111111 0.33333333\n",
            " 0.22222222 0.33333333 0.33333333 0.44444444 0.         0.22222222\n",
            " 1.         0.55555556 0.55555556 0.22222222 0.88888889 0.88888889\n",
            " 0.44444444 0.77777778 0.22222222 0.33333333 1.         0.11111111\n",
            " 0.77777778 0.33333333 0.77777778 0.         0.88888889 0.55555556\n",
            " 0.33333333 0.44444444 0.11111111 0.66666667 0.11111111 1.\n",
            " 0.         0.66666667 0.77777778 0.11111111 0.33333333 0.77777778\n",
            " 0.11111111 0.55555556 0.55555556 0.66666667 0.77777778 0.22222222\n",
            " 0.33333333 0.22222222 0.11111111 0.55555556 0.         1.\n",
            " 0.         0.44444444 0.66666667 0.         0.33333333 0.44444444\n",
            " 0.66666667 0.11111111 0.22222222 0.55555556 0.88888889 1.\n",
            " 0.88888889 0.22222222 0.55555556 0.55555556 0.66666667 0.44444444\n",
            " 0.33333333 0.55555556 0.77777778 0.         0.55555556 0.88888889\n",
            " 0.         1.         0.11111111 0.66666667 1.         0.55555556\n",
            " 0.66666667 0.11111111 0.88888889 0.44444444 0.66666667 1.\n",
            " 0.         0.88888889 1.         1.         0.66666667 0.77777778\n",
            " 0.88888889]\n"
          ]
        }
      ]
    },
    {
      "cell_type": "markdown",
      "source": [
        "Sel kode di atas digunakan untuk membuat variabel `x` dan `y`, diikuti dengan pemisahan data."
      ],
      "metadata": {
        "id": "xDV1ee4HcBl1"
      }
    },
    {
      "cell_type": "markdown",
      "source": [
        "#####Membangun model rekomendasi dengan TensorFlow"
      ],
      "metadata": {
        "id": "kM_jb6PDcLyG"
      }
    },
    {
      "cell_type": "code",
      "source": [
        "class RecommenderModel(tf.keras.Model):\n",
        "    def __init__(self, total_users, total_foods, embed_size, **kwargs):\n",
        "        super(RecommenderModel, self).__init__(**kwargs)\n",
        "        self.user_embed = layers.Embedding(total_users, embed_size,\n",
        "                                           embeddings_initializer='he_normal',\n",
        "                                           embeddings_regularizer=keras.regularizers.l2(1e-6))\n",
        "        self.user_bias = layers.Embedding(total_users, 1)\n",
        "        self.food_embed = layers.Embedding(total_foods, embed_size,\n",
        "                                           embeddings_initializer='he_normal',\n",
        "                                           embeddings_regularizer=keras.regularizers.l2(1e-6))\n",
        "        self.food_bias = layers.Embedding(total_foods, 1)\n",
        "\n",
        "    def call(self, inputs):\n",
        "        u_vec = self.user_embed(inputs[:, 0])\n",
        "        u_bias = self.user_bias(inputs[:, 0])\n",
        "        f_vec = self.food_embed(inputs[:, 1])\n",
        "        f_bias = self.food_bias(inputs[:, 1])\n",
        "\n",
        "        dot = tf.reduce_sum(u_vec * f_vec, axis=1, keepdims=True)\n",
        "        x_out = dot + u_bias + f_bias\n",
        "        return tf.nn.sigmoid(x_out)"
      ],
      "metadata": {
        "id": "7uO5IciwcFxE"
      },
      "execution_count": 30,
      "outputs": []
    },
    {
      "cell_type": "markdown",
      "source": [
        "Sel kode di atas digunakan untuk membuat kelas RecommenderModel dengan kelas Model keras."
      ],
      "metadata": {
        "id": "B7xxyezRcdLM"
      }
    },
    {
      "cell_type": "code",
      "source": [
        "model_reco = RecommenderModel(n_users, n_foods, 50)\n",
        "model_reco.compile(loss=tf.keras.losses.BinaryCrossentropy(),\n",
        "                   optimizer=keras.optimizers.Adam(learning_rate=0.0001),\n",
        "                   metrics=[tf.keras.metrics.RootMeanSquaredError()])"
      ],
      "metadata": {
        "id": "6wRBk1mzcfgK"
      },
      "execution_count": 31,
      "outputs": []
    },
    {
      "cell_type": "markdown",
      "source": [
        ">Pada tahapan ini, model *deep learning* yang telah disusun dikonfigurasi melalui proses kompilasi, yang merupakan langkah esensial sebelum pelatihan model dapat dimulai. Konfigurasi ini melibatkan penetapan tiga komponen utama: fungsi kerugian, *optimizer*, dan metrik evaluasi.\n",
        "\n",
        ">1.  **Fungsi Kerugian (*Loss Function*):** Model ini menggunakan `Binary Crossentropy` sebagai fungsi kerugian. Pemilihan `Binary Crossentropy` mengindikasikan bahwa model dirancang untuk masalah klasifikasi biner atau situasi di mana *output* yang diprediksi adalah probabilitas untuk dua kelas. Meskipun Anda berfokus pada sistem rekomendasi yang bisa jadi regresi atau multi-kelas, penggunaan *Binary Crossentropy* mungkin relevan jika masalah rekomendasi Anda diformulasikan sebagai klasifikasi implisit (misal: apakah pengguna akan suka/tidak suka).\n",
        ">2.  ***Optimizer*:** `Adam (Adaptive Moment Estimation)` dipilih sebagai *optimizer*. *Adam* adalah algoritma optimisasi yang populer dan efisien, dikenal karena kemampuannya dalam mengadaptasi *learning rate* untuk setiap parameter model, sehingga mempercepat konvergensi dan meningkatkan stabilitas pelatihan.\n",
        ">3.  **Metrik Evaluasi:** `Root Mean Squared Error (RMSE)` ditetapkan sebagai metrik evaluasi utama. RMSE adalah metrik yang umum digunakan dalam masalah regresi untuk mengukur seberapa jauh nilai yang diprediksi oleh model menyimpang dari nilai sebenarnya. Nilai RMSE yang lebih rendah menunjukkan akurasi prediksi model yang lebih tinggi.\n",
        "\n",
        ">Proses kompilasi ini memastikan bahwa model siap untuk dilatih, dengan parameter yang telah ditentukan untuk mengoptimalkan kinerja dan memfasilitasi evaluasi yang akurat."
      ],
      "metadata": {
        "id": "hD4_OZaicrGE"
      }
    },
    {
      "cell_type": "code",
      "source": [
        "history = model_reco.fit(X_train, y_train, batch_size=9, epochs=50, validation_data=(X_val, y_val))"
      ],
      "metadata": {
        "colab": {
          "base_uri": "https://localhost:8080/"
        },
        "id": "Sf6UlNAEcl8H",
        "outputId": "1cb6920f-db84-4c8e-b3fd-3108f1fa0e83"
      },
      "execution_count": 32,
      "outputs": [
        {
          "output_type": "stream",
          "name": "stdout",
          "text": [
            "Epoch 1/50\n",
            "\u001b[1m46/46\u001b[0m \u001b[32m━━━━━━━━━━━━━━━━━━━━\u001b[0m\u001b[37m\u001b[0m \u001b[1m10s\u001b[0m 111ms/step - loss: 0.6901 - root_mean_squared_error: 0.3088 - val_loss: 0.6921 - val_root_mean_squared_error: 0.3151\n",
            "Epoch 2/50\n",
            "\u001b[1m46/46\u001b[0m \u001b[32m━━━━━━━━━━━━━━━━━━━━\u001b[0m\u001b[37m\u001b[0m \u001b[1m4s\u001b[0m 4ms/step - loss: 0.6916 - root_mean_squared_error: 0.3178 - val_loss: 0.6920 - val_root_mean_squared_error: 0.3151\n",
            "Epoch 3/50\n",
            "\u001b[1m46/46\u001b[0m \u001b[32m━━━━━━━━━━━━━━━━━━━━\u001b[0m\u001b[37m\u001b[0m \u001b[1m0s\u001b[0m 4ms/step - loss: 0.6909 - root_mean_squared_error: 0.3127 - val_loss: 0.6920 - val_root_mean_squared_error: 0.3151\n",
            "Epoch 4/50\n",
            "\u001b[1m46/46\u001b[0m \u001b[32m━━━━━━━━━━━━━━━━━━━━\u001b[0m\u001b[37m\u001b[0m \u001b[1m0s\u001b[0m 4ms/step - loss: 0.6891 - root_mean_squared_error: 0.3047 - val_loss: 0.6920 - val_root_mean_squared_error: 0.3150\n",
            "Epoch 5/50\n",
            "\u001b[1m46/46\u001b[0m \u001b[32m━━━━━━━━━━━━━━━━━━━━\u001b[0m\u001b[37m\u001b[0m \u001b[1m0s\u001b[0m 4ms/step - loss: 0.6861 - root_mean_squared_error: 0.3046 - val_loss: 0.6919 - val_root_mean_squared_error: 0.3150\n",
            "Epoch 6/50\n",
            "\u001b[1m46/46\u001b[0m \u001b[32m━━━━━━━━━━━━━━━━━━━━\u001b[0m\u001b[37m\u001b[0m \u001b[1m0s\u001b[0m 4ms/step - loss: 0.6874 - root_mean_squared_error: 0.3189 - val_loss: 0.6919 - val_root_mean_squared_error: 0.3150\n",
            "Epoch 7/50\n",
            "\u001b[1m46/46\u001b[0m \u001b[32m━━━━━━━━━━━━━━━━━━━━\u001b[0m\u001b[37m\u001b[0m \u001b[1m0s\u001b[0m 4ms/step - loss: 0.6824 - root_mean_squared_error: 0.3120 - val_loss: 0.6918 - val_root_mean_squared_error: 0.3149\n",
            "Epoch 8/50\n",
            "\u001b[1m46/46\u001b[0m \u001b[32m━━━━━━━━━━━━━━━━━━━━\u001b[0m\u001b[37m\u001b[0m \u001b[1m0s\u001b[0m 4ms/step - loss: 0.6834 - root_mean_squared_error: 0.3060 - val_loss: 0.6918 - val_root_mean_squared_error: 0.3149\n",
            "Epoch 9/50\n",
            "\u001b[1m46/46\u001b[0m \u001b[32m━━━━━━━━━━━━━━━━━━━━\u001b[0m\u001b[37m\u001b[0m \u001b[1m0s\u001b[0m 4ms/step - loss: 0.6829 - root_mean_squared_error: 0.3142 - val_loss: 0.6917 - val_root_mean_squared_error: 0.3149\n",
            "Epoch 10/50\n",
            "\u001b[1m46/46\u001b[0m \u001b[32m━━━━━━━━━━━━━━━━━━━━\u001b[0m\u001b[37m\u001b[0m \u001b[1m0s\u001b[0m 4ms/step - loss: 0.6816 - root_mean_squared_error: 0.3083 - val_loss: 0.6917 - val_root_mean_squared_error: 0.3148\n",
            "Epoch 11/50\n",
            "\u001b[1m46/46\u001b[0m \u001b[32m━━━━━━━━━━━━━━━━━━━━\u001b[0m\u001b[37m\u001b[0m \u001b[1m0s\u001b[0m 4ms/step - loss: 0.6788 - root_mean_squared_error: 0.3105 - val_loss: 0.6916 - val_root_mean_squared_error: 0.3148\n",
            "Epoch 12/50\n",
            "\u001b[1m46/46\u001b[0m \u001b[32m━━━━━━━━━━━━━━━━━━━━\u001b[0m\u001b[37m\u001b[0m \u001b[1m0s\u001b[0m 4ms/step - loss: 0.6782 - root_mean_squared_error: 0.3058 - val_loss: 0.6916 - val_root_mean_squared_error: 0.3147\n",
            "Epoch 13/50\n",
            "\u001b[1m46/46\u001b[0m \u001b[32m━━━━━━━━━━━━━━━━━━━━\u001b[0m\u001b[37m\u001b[0m \u001b[1m0s\u001b[0m 4ms/step - loss: 0.6741 - root_mean_squared_error: 0.2995 - val_loss: 0.6916 - val_root_mean_squared_error: 0.3147\n",
            "Epoch 14/50\n",
            "\u001b[1m46/46\u001b[0m \u001b[32m━━━━━━━━━━━━━━━━━━━━\u001b[0m\u001b[37m\u001b[0m \u001b[1m0s\u001b[0m 4ms/step - loss: 0.6747 - root_mean_squared_error: 0.3089 - val_loss: 0.6915 - val_root_mean_squared_error: 0.3147\n",
            "Epoch 15/50\n",
            "\u001b[1m46/46\u001b[0m \u001b[32m━━━━━━━━━━━━━━━━━━━━\u001b[0m\u001b[37m\u001b[0m \u001b[1m0s\u001b[0m 4ms/step - loss: 0.6753 - root_mean_squared_error: 0.2938 - val_loss: 0.6914 - val_root_mean_squared_error: 0.3146\n",
            "Epoch 16/50\n",
            "\u001b[1m46/46\u001b[0m \u001b[32m━━━━━━━━━━━━━━━━━━━━\u001b[0m\u001b[37m\u001b[0m \u001b[1m0s\u001b[0m 4ms/step - loss: 0.6685 - root_mean_squared_error: 0.2989 - val_loss: 0.6914 - val_root_mean_squared_error: 0.3146\n",
            "Epoch 17/50\n",
            "\u001b[1m46/46\u001b[0m \u001b[32m━━━━━━━━━━━━━━━━━━━━\u001b[0m\u001b[37m\u001b[0m \u001b[1m0s\u001b[0m 5ms/step - loss: 0.6699 - root_mean_squared_error: 0.2894 - val_loss: 0.6913 - val_root_mean_squared_error: 0.3145\n",
            "Epoch 18/50\n",
            "\u001b[1m46/46\u001b[0m \u001b[32m━━━━━━━━━━━━━━━━━━━━\u001b[0m\u001b[37m\u001b[0m \u001b[1m0s\u001b[0m 4ms/step - loss: 0.6687 - root_mean_squared_error: 0.3002 - val_loss: 0.6913 - val_root_mean_squared_error: 0.3145\n",
            "Epoch 19/50\n",
            "\u001b[1m46/46\u001b[0m \u001b[32m━━━━━━━━━━━━━━━━━━━━\u001b[0m\u001b[37m\u001b[0m \u001b[1m0s\u001b[0m 4ms/step - loss: 0.6665 - root_mean_squared_error: 0.2980 - val_loss: 0.6912 - val_root_mean_squared_error: 0.3145\n",
            "Epoch 20/50\n",
            "\u001b[1m46/46\u001b[0m \u001b[32m━━━━━━━━━━━━━━━━━━━━\u001b[0m\u001b[37m\u001b[0m \u001b[1m0s\u001b[0m 4ms/step - loss: 0.6626 - root_mean_squared_error: 0.3015 - val_loss: 0.6912 - val_root_mean_squared_error: 0.3144\n",
            "Epoch 21/50\n",
            "\u001b[1m46/46\u001b[0m \u001b[32m━━━━━━━━━━━━━━━━━━━━\u001b[0m\u001b[37m\u001b[0m \u001b[1m0s\u001b[0m 4ms/step - loss: 0.6635 - root_mean_squared_error: 0.2877 - val_loss: 0.6912 - val_root_mean_squared_error: 0.3144\n",
            "Epoch 22/50\n",
            "\u001b[1m46/46\u001b[0m \u001b[32m━━━━━━━━━━━━━━━━━━━━\u001b[0m\u001b[37m\u001b[0m \u001b[1m0s\u001b[0m 4ms/step - loss: 0.6660 - root_mean_squared_error: 0.2901 - val_loss: 0.6911 - val_root_mean_squared_error: 0.3143\n",
            "Epoch 23/50\n",
            "\u001b[1m46/46\u001b[0m \u001b[32m━━━━━━━━━━━━━━━━━━━━\u001b[0m\u001b[37m\u001b[0m \u001b[1m0s\u001b[0m 4ms/step - loss: 0.6629 - root_mean_squared_error: 0.3005 - val_loss: 0.6911 - val_root_mean_squared_error: 0.3143\n",
            "Epoch 24/50\n",
            "\u001b[1m46/46\u001b[0m \u001b[32m━━━━━━━━━━━━━━━━━━━━\u001b[0m\u001b[37m\u001b[0m \u001b[1m0s\u001b[0m 4ms/step - loss: 0.6584 - root_mean_squared_error: 0.3012 - val_loss: 0.6910 - val_root_mean_squared_error: 0.3143\n",
            "Epoch 25/50\n",
            "\u001b[1m46/46\u001b[0m \u001b[32m━━━━━━━━━━━━━━━━━━━━\u001b[0m\u001b[37m\u001b[0m \u001b[1m0s\u001b[0m 5ms/step - loss: 0.6594 - root_mean_squared_error: 0.2900 - val_loss: 0.6910 - val_root_mean_squared_error: 0.3143\n",
            "Epoch 26/50\n",
            "\u001b[1m46/46\u001b[0m \u001b[32m━━━━━━━━━━━━━━━━━━━━\u001b[0m\u001b[37m\u001b[0m \u001b[1m0s\u001b[0m 6ms/step - loss: 0.6603 - root_mean_squared_error: 0.2858 - val_loss: 0.6909 - val_root_mean_squared_error: 0.3142\n",
            "Epoch 27/50\n",
            "\u001b[1m46/46\u001b[0m \u001b[32m━━━━━━━━━━━━━━━━━━━━\u001b[0m\u001b[37m\u001b[0m \u001b[1m0s\u001b[0m 5ms/step - loss: 0.6531 - root_mean_squared_error: 0.2936 - val_loss: 0.6909 - val_root_mean_squared_error: 0.3142\n",
            "Epoch 28/50\n",
            "\u001b[1m46/46\u001b[0m \u001b[32m━━━━━━━━━━━━━━━━━━━━\u001b[0m\u001b[37m\u001b[0m \u001b[1m0s\u001b[0m 5ms/step - loss: 0.6566 - root_mean_squared_error: 0.2834 - val_loss: 0.6909 - val_root_mean_squared_error: 0.3142\n",
            "Epoch 29/50\n",
            "\u001b[1m46/46\u001b[0m \u001b[32m━━━━━━━━━━━━━━━━━━━━\u001b[0m\u001b[37m\u001b[0m \u001b[1m0s\u001b[0m 6ms/step - loss: 0.6530 - root_mean_squared_error: 0.2843 - val_loss: 0.6908 - val_root_mean_squared_error: 0.3141\n",
            "Epoch 30/50\n",
            "\u001b[1m46/46\u001b[0m \u001b[32m━━━━━━━━━━━━━━━━━━━━\u001b[0m\u001b[37m\u001b[0m \u001b[1m0s\u001b[0m 6ms/step - loss: 0.6518 - root_mean_squared_error: 0.2900 - val_loss: 0.6908 - val_root_mean_squared_error: 0.3141\n",
            "Epoch 31/50\n",
            "\u001b[1m46/46\u001b[0m \u001b[32m━━━━━━━━━━━━━━━━━━━━\u001b[0m\u001b[37m\u001b[0m \u001b[1m0s\u001b[0m 5ms/step - loss: 0.6468 - root_mean_squared_error: 0.2952 - val_loss: 0.6907 - val_root_mean_squared_error: 0.3141\n",
            "Epoch 32/50\n",
            "\u001b[1m46/46\u001b[0m \u001b[32m━━━━━━━━━━━━━━━━━━━━\u001b[0m\u001b[37m\u001b[0m \u001b[1m0s\u001b[0m 4ms/step - loss: 0.6491 - root_mean_squared_error: 0.2870 - val_loss: 0.6907 - val_root_mean_squared_error: 0.3140\n",
            "Epoch 33/50\n",
            "\u001b[1m46/46\u001b[0m \u001b[32m━━━━━━━━━━━━━━━━━━━━\u001b[0m\u001b[37m\u001b[0m \u001b[1m0s\u001b[0m 4ms/step - loss: 0.6496 - root_mean_squared_error: 0.2836 - val_loss: 0.6907 - val_root_mean_squared_error: 0.3140\n",
            "Epoch 34/50\n",
            "\u001b[1m46/46\u001b[0m \u001b[32m━━━━━━━━━━━━━━━━━━━━\u001b[0m\u001b[37m\u001b[0m \u001b[1m0s\u001b[0m 4ms/step - loss: 0.6485 - root_mean_squared_error: 0.2858 - val_loss: 0.6906 - val_root_mean_squared_error: 0.3140\n",
            "Epoch 35/50\n",
            "\u001b[1m46/46\u001b[0m \u001b[32m━━━━━━━━━━━━━━━━━━━━\u001b[0m\u001b[37m\u001b[0m \u001b[1m0s\u001b[0m 4ms/step - loss: 0.6472 - root_mean_squared_error: 0.2792 - val_loss: 0.6906 - val_root_mean_squared_error: 0.3139\n",
            "Epoch 36/50\n",
            "\u001b[1m46/46\u001b[0m \u001b[32m━━━━━━━━━━━━━━━━━━━━\u001b[0m\u001b[37m\u001b[0m \u001b[1m0s\u001b[0m 4ms/step - loss: 0.6457 - root_mean_squared_error: 0.2788 - val_loss: 0.6906 - val_root_mean_squared_error: 0.3139\n",
            "Epoch 37/50\n",
            "\u001b[1m46/46\u001b[0m \u001b[32m━━━━━━━━━━━━━━━━━━━━\u001b[0m\u001b[37m\u001b[0m \u001b[1m0s\u001b[0m 4ms/step - loss: 0.6449 - root_mean_squared_error: 0.2726 - val_loss: 0.6905 - val_root_mean_squared_error: 0.3139\n",
            "Epoch 38/50\n",
            "\u001b[1m46/46\u001b[0m \u001b[32m━━━━━━━━━━━━━━━━━━━━\u001b[0m\u001b[37m\u001b[0m \u001b[1m0s\u001b[0m 4ms/step - loss: 0.6411 - root_mean_squared_error: 0.2757 - val_loss: 0.6905 - val_root_mean_squared_error: 0.3139\n",
            "Epoch 39/50\n",
            "\u001b[1m46/46\u001b[0m \u001b[32m━━━━━━━━━━━━━━━━━━━━\u001b[0m\u001b[37m\u001b[0m \u001b[1m0s\u001b[0m 4ms/step - loss: 0.6399 - root_mean_squared_error: 0.2741 - val_loss: 0.6905 - val_root_mean_squared_error: 0.3139\n",
            "Epoch 40/50\n",
            "\u001b[1m46/46\u001b[0m \u001b[32m━━━━━━━━━━━━━━━━━━━━\u001b[0m\u001b[37m\u001b[0m \u001b[1m0s\u001b[0m 4ms/step - loss: 0.6457 - root_mean_squared_error: 0.2620 - val_loss: 0.6905 - val_root_mean_squared_error: 0.3138\n",
            "Epoch 41/50\n",
            "\u001b[1m46/46\u001b[0m \u001b[32m━━━━━━━━━━━━━━━━━━━━\u001b[0m\u001b[37m\u001b[0m \u001b[1m0s\u001b[0m 4ms/step - loss: 0.6359 - root_mean_squared_error: 0.2716 - val_loss: 0.6904 - val_root_mean_squared_error: 0.3138\n",
            "Epoch 42/50\n",
            "\u001b[1m46/46\u001b[0m \u001b[32m━━━━━━━━━━━━━━━━━━━━\u001b[0m\u001b[37m\u001b[0m \u001b[1m0s\u001b[0m 4ms/step - loss: 0.6352 - root_mean_squared_error: 0.2684 - val_loss: 0.6904 - val_root_mean_squared_error: 0.3138\n",
            "Epoch 43/50\n",
            "\u001b[1m46/46\u001b[0m \u001b[32m━━━━━━━━━━━━━━━━━━━━\u001b[0m\u001b[37m\u001b[0m \u001b[1m0s\u001b[0m 4ms/step - loss: 0.6356 - root_mean_squared_error: 0.2692 - val_loss: 0.6904 - val_root_mean_squared_error: 0.3138\n",
            "Epoch 44/50\n",
            "\u001b[1m46/46\u001b[0m \u001b[32m━━━━━━━━━━━━━━━━━━━━\u001b[0m\u001b[37m\u001b[0m \u001b[1m0s\u001b[0m 4ms/step - loss: 0.6323 - root_mean_squared_error: 0.2740 - val_loss: 0.6904 - val_root_mean_squared_error: 0.3138\n",
            "Epoch 45/50\n",
            "\u001b[1m46/46\u001b[0m \u001b[32m━━━━━━━━━━━━━━━━━━━━\u001b[0m\u001b[37m\u001b[0m \u001b[1m0s\u001b[0m 4ms/step - loss: 0.6335 - root_mean_squared_error: 0.2612 - val_loss: 0.6903 - val_root_mean_squared_error: 0.3137\n",
            "Epoch 46/50\n",
            "\u001b[1m46/46\u001b[0m \u001b[32m━━━━━━━━━━━━━━━━━━━━\u001b[0m\u001b[37m\u001b[0m \u001b[1m0s\u001b[0m 4ms/step - loss: 0.6283 - root_mean_squared_error: 0.2670 - val_loss: 0.6903 - val_root_mean_squared_error: 0.3137\n",
            "Epoch 47/50\n",
            "\u001b[1m46/46\u001b[0m \u001b[32m━━━━━━━━━━━━━━━━━━━━\u001b[0m\u001b[37m\u001b[0m \u001b[1m0s\u001b[0m 4ms/step - loss: 0.6309 - root_mean_squared_error: 0.2632 - val_loss: 0.6903 - val_root_mean_squared_error: 0.3137\n",
            "Epoch 48/50\n",
            "\u001b[1m46/46\u001b[0m \u001b[32m━━━━━━━━━━━━━━━━━━━━\u001b[0m\u001b[37m\u001b[0m \u001b[1m0s\u001b[0m 4ms/step - loss: 0.6249 - root_mean_squared_error: 0.2667 - val_loss: 0.6903 - val_root_mean_squared_error: 0.3137\n",
            "Epoch 49/50\n",
            "\u001b[1m46/46\u001b[0m \u001b[32m━━━━━━━━━━━━━━━━━━━━\u001b[0m\u001b[37m\u001b[0m \u001b[1m0s\u001b[0m 4ms/step - loss: 0.6253 - root_mean_squared_error: 0.2618 - val_loss: 0.6903 - val_root_mean_squared_error: 0.3137\n",
            "Epoch 50/50\n",
            "\u001b[1m46/46\u001b[0m \u001b[32m━━━━━━━━━━━━━━━━━━━━\u001b[0m\u001b[37m\u001b[0m \u001b[1m0s\u001b[0m 4ms/step - loss: 0.6247 - root_mean_squared_error: 0.2595 - val_loss: 0.6903 - val_root_mean_squared_error: 0.3137\n"
          ]
        }
      ]
    },
    {
      "cell_type": "code",
      "source": [
        "plt.plot(history.history['root_mean_squared_error'])\n",
        "plt.plot(history.history['val_root_mean_squared_error'])\n",
        "plt.title('Model Metrics: RMSE')\n",
        "plt.ylabel('RMSE')\n",
        "plt.xlabel('Epoch')\n",
        "plt.legend(['Train RMSE', 'Validation RMSE'], loc='best')\n",
        "plt.show()"
      ],
      "metadata": {
        "colab": {
          "base_uri": "https://localhost:8080/",
          "height": 472
        },
        "id": "JKc0xVyuYaU1",
        "outputId": "be715da7-e812-4772-f4a4-50ddb0a0e25a"
      },
      "execution_count": 33,
      "outputs": [
        {
          "output_type": "display_data",
          "data": {
            "text/plain": [
              "<Figure size 640x480 with 1 Axes>"
            ],
            "image/png": "[encoded data removed]"
          },
          "metadata": {}
        }
      ]
    },
    {
      "cell_type": "markdown",
      "source": [
        "> Visualisasi metrik kinerja model pada *output code cell* di atas memberikan *insight* krusial mengenai proses pembelajaran dan performa model selama pelatihan. Dari plot yang diamati, terlihat adanya **tren penurunan *Root Mean Squared Error* (RMSE) yang konsisten** pada setiap *epoch*, baik untuk data pelatihan (*training data*) maupun data evaluasi (*validation data*). Penurunan ini secara langsung mengindikasikan bahwa model berhasil mempelajari pola dan hubungan dalam data, sehingga akurasi prediksinya terus meningkat seiring dengan proses pelatihan.\n",
        "\n",
        "> Pada akhir proses pelatihan, visualisasi ini juga menunjukkan bahwa model mencapai **nilai *error* RMSE akhir sebesar 0.2595** pada data pelatihan, dengan *error* pada data validasi sedikit lebih tinggi, yaitu **0.3137**. Perbedaan kecil antara RMSE pelatihan dan validasi ini menunjukkan bahwa model tidak hanya belajar dari data pelatihan tetapi juga mampu menggeneralisasi dengan baik pada data yang belum pernah dilihat sebelumnya. Nilai RMSE yang rendah secara keseluruhan mencerminkan bahwa model dapat memprediksi *rating* atau nilai numerik target dengan tingkat kesalahan yang minimal, yang merupakan indikator kuat dari efektivitas model dalam konteks proyek ini."
      ],
      "metadata": {
        "id": "9P4vtiZedIY2"
      }
    },
    {
      "cell_type": "markdown",
      "source": [
        "#####Mengambil data sample rating"
      ],
      "metadata": {
        "id": "SvZvmi_Peds9"
      }
    },
    {
      "cell_type": "code",
      "source": [
        "df_sample = pd.read_csv('/content/food-recommendation-system/ratings.csv')\n",
        "sample_user = df_sample['User_ID'].sample(1).iloc[0]\n",
        "user_ratings = df_sample[df_sample['User_ID'] == sample_user]"
      ],
      "metadata": {
        "id": "V1qmMwMfeALi"
      },
      "execution_count": 34,
      "outputs": []
    },
    {
      "cell_type": "markdown",
      "source": [
        "Mengambil makanan yang belum pernah dicoba oleh user"
      ],
      "metadata": {
        "id": "TY1EaqWPeyTv"
      }
    },
    {
      "cell_type": "code",
      "source": [
        "makanan_belum = df_makanan_baru[~df_makanan_baru['id'].isin(user_ratings['Food_ID'].values)]['id']\n",
        "makanan_belum = list(set(makanan_belum).intersection(set(food2idx.keys())))\n",
        "makanan_belum_idx = [[food2idx[x]] for x in makanan_belum]\n",
        "\n",
        "user_encoded = user2idx[sample_user]\n",
        "user_food_pairs = np.hstack((np.full((len(makanan_belum_idx), 1), user_encoded), makanan_belum_idx))\n",
        "prediksi_rating = model_reco.predict(user_food_pairs).flatten()"
      ],
      "metadata": {
        "colab": {
          "base_uri": "https://localhost:8080/"
        },
        "id": "gzgqbbQ9evmT",
        "outputId": "01898488-4322-4d75-ced6-f4ed8fd14838"
      },
      "execution_count": 35,
      "outputs": [
        {
          "output_type": "stream",
          "name": "stdout",
          "text": [
            "\u001b[1m10/10\u001b[0m \u001b[32m━━━━━━━━━━━━━━━━━━━━\u001b[0m\u001b[37m\u001b[0m \u001b[1m0s\u001b[0m 23ms/step\n"
          ]
        }
      ]
    },
    {
      "cell_type": "markdown",
      "source": [
        "Mengambil 10 rekomendasi teratas"
      ],
      "metadata": {
        "id": "IJXp2lofe75p"
      }
    },
    {
      "cell_type": "code",
      "source": [
        "top_indices = prediksi_rating.argsort()[-10:][::-1]\n",
        "rekomendasi_ids = [idx2food[makanan_belum_idx[i][0]] for i in top_indices]\n",
        "\n",
        "print('Rekomendasi untuk User:', int(sample_user))\n",
        "print('---' * 10)\n",
        "print('Makanan yang pernah dinilai tinggi oleh user:')\n",
        "top_user = user_ratings.sort_values(by='Rating', ascending=False).head(5)['Food_ID'].values\n",
        "for row in df_makanan_baru[df_makanan_baru['id'].isin(top_user)].itertuples():\n",
        "    print(row.food_name, \":\", row.category)\n",
        "\n",
        "print('---' * 10)\n",
        "print('Top 10 rekomendasi makanan:')\n",
        "for row in df_makanan_baru[df_makanan_baru['id'].isin(rekomendasi_ids)].itertuples():\n",
        "    print(row.food_name, \":\", row.category)"
      ],
      "metadata": {
        "colab": {
          "base_uri": "https://localhost:8080/"
        },
        "id": "OZgVWadre42-",
        "outputId": "b3d2a5cd-5226-47d4-bf3e-3f8c7d76de83"
      },
      "execution_count": 38,
      "outputs": [
        {
          "output_type": "stream",
          "name": "stdout",
          "text": [
            "Rekomendasi untuk User: 41\n",
            "------------------------------\n",
            "Makanan yang pernah dinilai tinggi oleh user:\n",
            "tricolour salad : Healthy_Food\n",
            "christmas chocolate fudge cookies : Dessert\n",
            "spicy chicken curry : Indian\n",
            "ragi coconut ladoo (laddu) : Dessert\n",
            "------------------------------\n",
            "Top 10 rekomendasi makanan:\n",
            "sweet chilli almonds : Snack\n",
            "flax seed and beetroot modak : Japanese\n",
            "crispy herb chicken : Italian\n",
            "cajun spiced turkey wrapped with bacon : Mexican\n",
            "japanese fish stew : Japanese\n",
            "damdama fish curry : Indian\n",
            "whole wheat cake : Healthy_Food\n",
            "lamb korma : Indian\n",
            "kuttu atta pizza : Italian\n",
            "white chocolate and lemon pastry : Dessert\n"
          ]
        }
      ]
    },
    {
      "cell_type": "markdown",
      "source": [
        ">Sel kode di atas berfungsi untuk menghasilkan rekomendasi makanan yang dipersonalisasi bagi pengguna dengan `User_ID 41`. Proses ini memanfaatkan model rekomendasi yang telah dibangun, dengan mengidentifikasi pola preferensi pengguna tersebut terhadap berbagai makanan. Dari *output* eksekusi kode, dapat diamati bahwa sistem berhasil menyajikan daftar yang terdiri dari 10 rekomendasi makanan yang relevan untuk `User_ID 41`. Hasil ini menunjukkan kapabilitas model dalam menyediakan saran makanan yang disesuaikan, yang merupakan inti dari fungsionalitas sistem rekomendasi."
      ],
      "metadata": {
        "id": "wVXJlm75fEZJ"
      }
    }
  ]
}